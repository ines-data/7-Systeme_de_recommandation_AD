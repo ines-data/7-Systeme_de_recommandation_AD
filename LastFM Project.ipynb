{
 "cells": [
  {
   "cell_type": "code",
   "execution_count": 1,
   "metadata": {},
   "outputs": [],
   "source": [
    "import pandas as pd\n",
    "import numpy as np"
   ]
  },
  {
   "cell_type": "code",
   "execution_count": 2,
   "metadata": {},
   "outputs": [
    {
     "data": {
      "text/html": [
       "<div>\n",
       "<style scoped>\n",
       "    .dataframe tbody tr th:only-of-type {\n",
       "        vertical-align: middle;\n",
       "    }\n",
       "\n",
       "    .dataframe tbody tr th {\n",
       "        vertical-align: top;\n",
       "    }\n",
       "\n",
       "    .dataframe thead th {\n",
       "        text-align: right;\n",
       "    }\n",
       "</style>\n",
       "<table border=\"1\" class=\"dataframe\">\n",
       "  <thead>\n",
       "    <tr style=\"text-align: right;\">\n",
       "      <th></th>\n",
       "      <th>totalUsers</th>\n",
       "      <th>totalPlays</th>\n",
       "      <th>avgPlays</th>\n",
       "    </tr>\n",
       "    <tr>\n",
       "      <th>name</th>\n",
       "      <th></th>\n",
       "      <th></th>\n",
       "      <th></th>\n",
       "    </tr>\n",
       "  </thead>\n",
       "  <tbody>\n",
       "    <tr>\n",
       "      <th>Britney Spears</th>\n",
       "      <td>522</td>\n",
       "      <td>2393140</td>\n",
       "      <td>4584.559387</td>\n",
       "    </tr>\n",
       "    <tr>\n",
       "      <th>Depeche Mode</th>\n",
       "      <td>282</td>\n",
       "      <td>1301308</td>\n",
       "      <td>4614.567376</td>\n",
       "    </tr>\n",
       "    <tr>\n",
       "      <th>Lady Gaga</th>\n",
       "      <td>611</td>\n",
       "      <td>1291387</td>\n",
       "      <td>2113.563011</td>\n",
       "    </tr>\n",
       "    <tr>\n",
       "      <th>Christina Aguilera</th>\n",
       "      <td>407</td>\n",
       "      <td>1058405</td>\n",
       "      <td>2600.503686</td>\n",
       "    </tr>\n",
       "    <tr>\n",
       "      <th>Paramore</th>\n",
       "      <td>399</td>\n",
       "      <td>963449</td>\n",
       "      <td>2414.659148</td>\n",
       "    </tr>\n",
       "    <tr>\n",
       "      <th>Madonna</th>\n",
       "      <td>429</td>\n",
       "      <td>921198</td>\n",
       "      <td>2147.314685</td>\n",
       "    </tr>\n",
       "  </tbody>\n",
       "</table>\n",
       "</div>"
      ],
      "text/plain": [
       "                    totalUsers  totalPlays     avgPlays\n",
       "name                                                   \n",
       "Britney Spears             522     2393140  4584.559387\n",
       "Depeche Mode               282     1301308  4614.567376\n",
       "Lady Gaga                  611     1291387  2113.563011\n",
       "Christina Aguilera         407     1058405  2600.503686\n",
       "Paramore                   399      963449  2414.659148\n",
       "Madonna                    429      921198  2147.314685"
      ]
     },
     "execution_count": 2,
     "metadata": {},
     "output_type": "execute_result"
    }
   ],
   "source": [
    "plays = pd.read_csv('data_lastfm/user_artists.dat', sep='\\t')\n",
    "artists = pd.read_csv('data_lastfm/artists.dat', sep='\\t', usecols=['id','name'])\n",
    "\n",
    "# Merge artist and user pref data\n",
    "ap = pd.merge(artists, plays, how=\"inner\", left_on=\"id\", right_on=\"artistID\")\n",
    "ap = ap.rename(columns={\"weight\": \"playCount\"})\n",
    "\n",
    "# Group artist by name\n",
    "artist_rank = ap.groupby(['name']) \\\n",
    "    .agg({'userID' : 'count', 'playCount' : 'sum'}) \\\n",
    "    .rename(columns={\"userID\" : 'totalUsers', \"playCount\" : \"totalPlays\"}) \\\n",
    "    .sort_values(['totalPlays'], ascending=False)\n",
    "\n",
    "artist_rank['avgPlays'] = artist_rank['totalPlays'] / artist_rank['totalUsers']\n",
    "artist_rank.head(6)"
   ]
  },
  {
   "cell_type": "code",
   "execution_count": 3,
   "metadata": {},
   "outputs": [
    {
     "name": "stdout",
     "output_type": "stream",
     "text": [
      "sparsity: 0.28\n"
     ]
    }
   ],
   "source": [
    "# Merge into ap matrix\n",
    "ap = ap.join(artist_rank, on=\"name\", how=\"inner\") \\\n",
    "    .sort_values(['playCount'], ascending=False)\n",
    "\n",
    "# Preprocessing\n",
    "pc = ap.playCount\n",
    "play_count_scaled = (pc - pc.min()) / (pc.max() - pc.min())\n",
    "ap = ap.assign(playCountScaled=play_count_scaled)\n",
    "\n",
    "\n",
    "# Build a user-artist rating matrix \n",
    "ratings_df = ap.pivot(index='userID', columns='artistID', values='playCountScaled')\n",
    "ratings = ratings_df.fillna(0).values\n",
    "\n",
    "# Show sparsity\n",
    "sparsity = float(len(ratings.nonzero()[0])) / (ratings.shape[0] * ratings.shape[1]) * 100\n",
    "print(\"sparsity: %.2f\" % sparsity)\n"
   ]
  },
  {
   "cell_type": "code",
   "execution_count": 4,
   "metadata": {},
   "outputs": [
    {
     "name": "stdout",
     "output_type": "stream",
     "text": [
      "rating matrix shape (1892, 17632)\n"
     ]
    }
   ],
   "source": [
    "from scipy.sparse import csr_matrix\n",
    "\n",
    "# Build a sparse matrix\n",
    "X = csr_matrix(ratings)\n",
    "\n",
    "n_users, n_items = ratings_df.shape\n",
    "print(\"rating matrix shape\", ratings_df.shape)\n",
    "\n",
    "user_ids = ratings_df.index.values\n",
    "artist_names = ap.sort_values(\"artistID\")[\"name\"].unique()"
   ]
  },
  {
   "cell_type": "code",
   "execution_count": 5,
   "metadata": {},
   "outputs": [],
   "source": [
    "from lightfm import LightFM\n",
    "from lightfm.evaluation import auc_score, precision_at_k, recall_at_k\n",
    "from lightfm.cross_validation import random_train_test_split\n",
    "from lightfm.data import Dataset\n",
    "\n",
    "# Build data references + train test\n",
    "Xcoo = X.tocoo()\n",
    "data = Dataset()\n",
    "data.fit(np.arange(n_users), np.arange(n_items))\n",
    "interactions, weights = data.build_interactions(zip(Xcoo.row, Xcoo.col, Xcoo.data)) \n",
    "train, test = random_train_test_split(interactions)\n",
    "\n",
    "# Ignore that (weight seems to be ignored...)\n",
    "#train = train_.tocsr()\n",
    "#test = test_.tocsr()\n",
    "#train[train==1] = X[train==1]\n",
    "#test[test==1] = X[test==1]\n",
    "\n",
    "# To be completed..."
   ]
  },
  {
   "cell_type": "code",
   "execution_count": 6,
   "metadata": {},
   "outputs": [
    {
     "data": {
      "text/plain": [
       "<lightfm.lightfm.LightFM at 0x7f06547e1b20>"
      ]
     },
     "execution_count": 6,
     "metadata": {},
     "output_type": "execute_result"
    }
   ],
   "source": [
    "# Train\n",
    "model = LightFM(learning_rate=0.05, loss='warp')\n",
    "model.fit(train, epochs=10, num_threads=2)\n"
   ]
  },
  {
   "cell_type": "code",
   "execution_count": 7,
   "metadata": {},
   "outputs": [
    {
     "name": "stdout",
     "output_type": "stream",
     "text": [
      "Precision: train 0.39, test 0.13.\n",
      "AUC: train 0.97, test 0.86.\n"
     ]
    }
   ],
   "source": [
    "# Evaluate\n",
    "train_precision = precision_at_k(model, train, k=10).mean()\n",
    "test_precision = precision_at_k(model, test, k=10, train_interactions=train).mean()\n",
    "\n",
    "train_auc = auc_score(model, train).mean()\n",
    "test_auc = auc_score(model, test, train_interactions=train).mean()\n",
    "\n",
    "print('Precision: train %.2f, test %.2f.' % (train_precision, test_precision))\n",
    "print('AUC: train %.2f, test %.2f.' % (train_auc, test_auc))"
   ]
  },
  {
   "cell_type": "code",
   "execution_count": 8,
   "metadata": {},
   "outputs": [
    {
     "name": "stdout",
     "output_type": "stream",
     "text": [
      "0.858229\n"
     ]
    }
   ],
   "source": [
    "# calculate score model\n",
    "score = auc_score(model, test_interactions=test, train_interactions=None,\n",
    "              user_features=None, item_features=None,\n",
    "              preserve_rows=False, num_threads=1, check_intersections=True).mean()\n",
    "\n",
    "print(score)"
   ]
  },
  {
   "cell_type": "code",
   "execution_count": 9,
   "metadata": {},
   "outputs": [
    {
     "name": "stdout",
     "output_type": "stream",
     "text": [
      "['Depeche Mode' 'Muse' 'The Beatles' ... 'BAELSCOPE' 'Bounty Killer'\n",
      " 'Niyaz']\n",
      "[-1.8436178 -1.191898  -3.1069374 ... -2.7129712 -2.970126  -2.4366848]\n"
     ]
    }
   ],
   "source": [
    "# Predict\n",
    "scores = model.predict(0, np.arange(n_items))\n",
    "top_items = artist_names[np.argsort(-scores)]\n",
    "print(top_items)\n",
    "print(scores)"
   ]
  },
  {
   "cell_type": "markdown",
   "metadata": {},
   "source": [
    "## Evaluation du model en comparant la mesure AUC, la précision, le rappel en modifiant \"loss\""
   ]
  },
  {
   "cell_type": "code",
   "execution_count": 10,
   "metadata": {},
   "outputs": [],
   "source": [
    "def evaluation_model():\n",
    "    L = ['logistic', 'bpr', 'warp', 'warp-kos']\n",
    "    res = []\n",
    "    for i in L:\n",
    "        # Train\n",
    "        model = LightFM(learning_rate=0.05, loss=i)\n",
    "        model.fit(train, epochs=10, num_threads=2)\n",
    "        # Evaluate Precision \n",
    "        train_precision = precision_at_k(model, train, k=10).mean()\n",
    "        test_precision = precision_at_k(model, test, k=10, train_interactions=train).mean()\n",
    "        # Evaluate AUC\n",
    "        train_auc = auc_score(model, train).mean()\n",
    "        test_auc = auc_score(model, test, train_interactions=train).mean()\n",
    "        # Evaluate Recall\n",
    "        train_recall = recall_at_k(model, train).mean()\n",
    "        test_recall = recall_at_k(model, test).mean()\n",
    "\n",
    "        resultats = [train_precision, test_precision, train_auc, test_auc, train_recall, test_recall]\n",
    "\n",
    "\n",
    "        res.append(resultats)\n",
    "        #print('res',res)\n",
    "    ar = np.array(res)\n",
    "\n",
    "    df = pd.DataFrame(ar, index = ['model(loss=logistic)','model(loss=bpr)','model(loss=warp)','model(loss=warp-kos)']\n",
    "                        , columns =['train_precision', 'test_precision', 'train_auc', 'test_auc', 'train_recall', 'test_recall'])            \n",
    "    return df"
   ]
  },
  {
   "cell_type": "code",
   "execution_count": 10,
   "metadata": {},
   "outputs": [
    {
     "data": {
      "text/html": [
       "<div>\n",
       "<style scoped>\n",
       "    .dataframe tbody tr th:only-of-type {\n",
       "        vertical-align: middle;\n",
       "    }\n",
       "\n",
       "    .dataframe tbody tr th {\n",
       "        vertical-align: top;\n",
       "    }\n",
       "\n",
       "    .dataframe thead th {\n",
       "        text-align: right;\n",
       "    }\n",
       "</style>\n",
       "<table border=\"1\" class=\"dataframe\">\n",
       "  <thead>\n",
       "    <tr style=\"text-align: right;\">\n",
       "      <th></th>\n",
       "      <th>train_precision</th>\n",
       "      <th>test_precision</th>\n",
       "      <th>train_auc</th>\n",
       "      <th>test_auc</th>\n",
       "      <th>train_recall</th>\n",
       "      <th>test_recall</th>\n",
       "    </tr>\n",
       "  </thead>\n",
       "  <tbody>\n",
       "    <tr>\n",
       "      <th>model(loss=logistic)</th>\n",
       "      <td>0.195498</td>\n",
       "      <td>0.069807</td>\n",
       "      <td>0.886875</td>\n",
       "      <td>0.809789</td>\n",
       "      <td>0.050679</td>\n",
       "      <td>0.049638</td>\n",
       "    </tr>\n",
       "    <tr>\n",
       "      <th>model(loss=bpr)</th>\n",
       "      <td>0.346610</td>\n",
       "      <td>0.111777</td>\n",
       "      <td>0.837072</td>\n",
       "      <td>0.771079</td>\n",
       "      <td>0.089472</td>\n",
       "      <td>0.076398</td>\n",
       "    </tr>\n",
       "    <tr>\n",
       "      <th>model(loss=warp)</th>\n",
       "      <td>0.371080</td>\n",
       "      <td>0.127248</td>\n",
       "      <td>0.963038</td>\n",
       "      <td>0.856625</td>\n",
       "      <td>0.095736</td>\n",
       "      <td>0.087290</td>\n",
       "    </tr>\n",
       "    <tr>\n",
       "      <th>model(loss=warp-kos)</th>\n",
       "      <td>0.332150</td>\n",
       "      <td>0.122323</td>\n",
       "      <td>0.887411</td>\n",
       "      <td>0.823616</td>\n",
       "      <td>0.085955</td>\n",
       "      <td>0.079454</td>\n",
       "    </tr>\n",
       "  </tbody>\n",
       "</table>\n",
       "</div>"
      ],
      "text/plain": [
       "                      train_precision  test_precision  train_auc  test_auc  \\\n",
       "model(loss=logistic)         0.195498        0.069807   0.886875  0.809789   \n",
       "model(loss=bpr)              0.346610        0.111777   0.837072  0.771079   \n",
       "model(loss=warp)             0.371080        0.127248   0.963038  0.856625   \n",
       "model(loss=warp-kos)         0.332150        0.122323   0.887411  0.823616   \n",
       "\n",
       "                      train_recall  test_recall  \n",
       "model(loss=logistic)      0.050679     0.049638  \n",
       "model(loss=bpr)           0.089472     0.076398  \n",
       "model(loss=warp)          0.095736     0.087290  \n",
       "model(loss=warp-kos)      0.085955     0.079454  "
      ]
     },
     "execution_count": 10,
     "metadata": {},
     "output_type": "execute_result"
    }
   ],
   "source": [
    "evaluation_model()"
   ]
  },
  {
   "cell_type": "markdown",
   "metadata": {},
   "source": [
    "## Evaluation du model en comparant la mesure AUC, la précision, le rappel en modifiant \"epochs\" dans le fit et en gardant le \"loss = 'warp\" car avec ce loss on obtient les mesures les plus élevées"
   ]
  },
  {
   "cell_type": "code",
   "execution_count": 11,
   "metadata": {},
   "outputs": [],
   "source": [
    "def evaluation_model_epochs():\n",
    "    L = [5, 10, 15, 20, 40, 50, 100, 150]\n",
    "    res = []\n",
    "    for i in L:\n",
    "        # Train\n",
    "        model = LightFM(learning_rate=0.05, loss='warp')\n",
    "        model.fit(train, epochs=i, num_threads=2)\n",
    "        # Evaluate Precision \n",
    "        train_precision = precision_at_k(model, train, k=10).mean()\n",
    "        test_precision = precision_at_k(model, test, k=10, train_interactions=train).mean()\n",
    "        # Evaluate AUC\n",
    "        train_auc = auc_score(model, train).mean()\n",
    "        test_auc = auc_score(model, test, train_interactions=train).mean()\n",
    "        # Evaluate Recall\n",
    "        train_recall = recall_at_k(model, train).mean()\n",
    "        test_recall = recall_at_k(model, test).mean()\n",
    "\n",
    "        resultats = [train_precision, test_precision, train_auc, test_auc, train_recall, test_recall]\n",
    "\n",
    "\n",
    "        res.append(resultats)\n",
    "        #print('res',res)\n",
    "    ar = np.array(res)\n",
    "\n",
    "    df = pd.DataFrame(ar, index = ['model(epochs=5)','model(epochs=10)','model(epochs=15)','model(epochs=20)'\n",
    "                                   , 'model(epochs=40)','model(epochs=50)','model(epochs=100)', 'model(epochs=150)']\n",
    "                        , columns =['train_precision', 'test_precision', 'train_auc', 'test_auc', 'train_recall', 'test_recall'])            \n",
    "    return df"
   ]
  },
  {
   "cell_type": "code",
   "execution_count": 12,
   "metadata": {},
   "outputs": [
    {
     "data": {
      "text/html": [
       "<div>\n",
       "<style scoped>\n",
       "    .dataframe tbody tr th:only-of-type {\n",
       "        vertical-align: middle;\n",
       "    }\n",
       "\n",
       "    .dataframe tbody tr th {\n",
       "        vertical-align: top;\n",
       "    }\n",
       "\n",
       "    .dataframe thead th {\n",
       "        text-align: right;\n",
       "    }\n",
       "</style>\n",
       "<table border=\"1\" class=\"dataframe\">\n",
       "  <thead>\n",
       "    <tr style=\"text-align: right;\">\n",
       "      <th></th>\n",
       "      <th>train_precision</th>\n",
       "      <th>test_precision</th>\n",
       "      <th>train_auc</th>\n",
       "      <th>test_auc</th>\n",
       "      <th>train_recall</th>\n",
       "      <th>test_recall</th>\n",
       "    </tr>\n",
       "  </thead>\n",
       "  <tbody>\n",
       "    <tr>\n",
       "      <th>model(epochs=5)</th>\n",
       "      <td>0.335699</td>\n",
       "      <td>0.117934</td>\n",
       "      <td>0.935433</td>\n",
       "      <td>0.843165</td>\n",
       "      <td>0.086315</td>\n",
       "      <td>0.082710</td>\n",
       "    </tr>\n",
       "    <tr>\n",
       "      <th>model(epochs=10)</th>\n",
       "      <td>0.377066</td>\n",
       "      <td>0.131906</td>\n",
       "      <td>0.963768</td>\n",
       "      <td>0.858543</td>\n",
       "      <td>0.097361</td>\n",
       "      <td>0.089339</td>\n",
       "    </tr>\n",
       "    <tr>\n",
       "      <th>model(epochs=15)</th>\n",
       "      <td>0.394068</td>\n",
       "      <td>0.135064</td>\n",
       "      <td>0.974124</td>\n",
       "      <td>0.861691</td>\n",
       "      <td>0.101929</td>\n",
       "      <td>0.090702</td>\n",
       "    </tr>\n",
       "    <tr>\n",
       "      <th>model(epochs=20)</th>\n",
       "      <td>0.404979</td>\n",
       "      <td>0.140150</td>\n",
       "      <td>0.981815</td>\n",
       "      <td>0.868845</td>\n",
       "      <td>0.104314</td>\n",
       "      <td>0.091536</td>\n",
       "    </tr>\n",
       "    <tr>\n",
       "      <th>model(epochs=40)</th>\n",
       "      <td>0.424682</td>\n",
       "      <td>0.138758</td>\n",
       "      <td>0.988776</td>\n",
       "      <td>0.867362</td>\n",
       "      <td>0.111023</td>\n",
       "      <td>0.090870</td>\n",
       "    </tr>\n",
       "    <tr>\n",
       "      <th>model(epochs=50)</th>\n",
       "      <td>0.435646</td>\n",
       "      <td>0.148769</td>\n",
       "      <td>0.990851</td>\n",
       "      <td>0.870709</td>\n",
       "      <td>0.113673</td>\n",
       "      <td>0.098598</td>\n",
       "    </tr>\n",
       "    <tr>\n",
       "      <th>model(epochs=100)</th>\n",
       "      <td>0.432415</td>\n",
       "      <td>0.144272</td>\n",
       "      <td>0.992961</td>\n",
       "      <td>0.872131</td>\n",
       "      <td>0.115744</td>\n",
       "      <td>0.096120</td>\n",
       "    </tr>\n",
       "    <tr>\n",
       "      <th>model(epochs=150)</th>\n",
       "      <td>0.440890</td>\n",
       "      <td>0.147698</td>\n",
       "      <td>0.994067</td>\n",
       "      <td>0.876490</td>\n",
       "      <td>0.118346</td>\n",
       "      <td>0.097803</td>\n",
       "    </tr>\n",
       "  </tbody>\n",
       "</table>\n",
       "</div>"
      ],
      "text/plain": [
       "                   train_precision  test_precision  train_auc  test_auc  \\\n",
       "model(epochs=5)           0.335699        0.117934   0.935433  0.843165   \n",
       "model(epochs=10)          0.377066        0.131906   0.963768  0.858543   \n",
       "model(epochs=15)          0.394068        0.135064   0.974124  0.861691   \n",
       "model(epochs=20)          0.404979        0.140150   0.981815  0.868845   \n",
       "model(epochs=40)          0.424682        0.138758   0.988776  0.867362   \n",
       "model(epochs=50)          0.435646        0.148769   0.990851  0.870709   \n",
       "model(epochs=100)         0.432415        0.144272   0.992961  0.872131   \n",
       "model(epochs=150)         0.440890        0.147698   0.994067  0.876490   \n",
       "\n",
       "                   train_recall  test_recall  \n",
       "model(epochs=5)        0.086315     0.082710  \n",
       "model(epochs=10)       0.097361     0.089339  \n",
       "model(epochs=15)       0.101929     0.090702  \n",
       "model(epochs=20)       0.104314     0.091536  \n",
       "model(epochs=40)       0.111023     0.090870  \n",
       "model(epochs=50)       0.113673     0.098598  \n",
       "model(epochs=100)      0.115744     0.096120  \n",
       "model(epochs=150)      0.118346     0.097803  "
      ]
     },
     "execution_count": 12,
     "metadata": {},
     "output_type": "execute_result"
    }
   ],
   "source": [
    "evaluation_model_epochs()"
   ]
  },
  {
   "cell_type": "markdown",
   "metadata": {},
   "source": [
    "# La fonction get_recommandation qui prend en entrée un User et renvoie les Artists recommandé"
   ]
  },
  {
   "cell_type": "code",
   "execution_count": 10,
   "metadata": {},
   "outputs": [],
   "source": [
    "def get_recommandation(userID):\n",
    "    n_users, n_items = X.shape\n",
    "    \n",
    "    scores = model.predict(userID, np.arange(n_items))\n",
    "    top_items = artist_names[np.argsort(-scores)]\n",
    "\n",
    "    return top_items[0:10]#.unique()"
   ]
  },
  {
   "cell_type": "code",
   "execution_count": 11,
   "metadata": {},
   "outputs": [
    {
     "data": {
      "text/plain": [
       "array(['Depeche Mode', 'The Beatles', 'Red Hot Chili Peppers', 'Muse',\n",
       "       'Radiohead', 'Metallica', 'Oasis', 'The Cure', 'Nirvana',\n",
       "       'Pink Floyd'], dtype=object)"
      ]
     },
     "execution_count": 11,
     "metadata": {},
     "output_type": "execute_result"
    }
   ],
   "source": [
    "get_recommandation(2)"
   ]
  },
  {
   "cell_type": "code",
   "execution_count": 12,
   "metadata": {},
   "outputs": [
    {
     "data": {
      "text/plain": [
       "array(['Boards of Canada', 'Autechre', 'Proem', 'The Cinematic Orchestra',\n",
       "       'Apparat', 'Plaid', 'Chris Clark', 'ISAN', 'Aphex Twin',\n",
       "       'Amon Tobin'], dtype=object)"
      ]
     },
     "execution_count": 12,
     "metadata": {},
     "output_type": "execute_result"
    }
   ],
   "source": [
    "get_recommandation(100)"
   ]
  },
  {
   "cell_type": "markdown",
   "metadata": {},
   "source": [
    "## La fonction  qui renvoie les artistes ecoutés par un utilisateur par ordre décroissant du \"avgPlays\"\n"
   ]
  },
  {
   "cell_type": "code",
   "execution_count": 13,
   "metadata": {},
   "outputs": [
    {
     "name": "stdout",
     "output_type": "stream",
     "text": [
      "(1892, 1892)\n"
     ]
    }
   ],
   "source": [
    "from sklearn.metrics.pairwise import linear_kernel, cosine_similarity\n",
    "\n",
    "# Compute the cosine similarity matrix\n",
    "cosine_sim = cosine_similarity(train, train)\n",
    "\n",
    "print(cosine_sim.shape)"
   ]
  },
  {
   "cell_type": "code",
   "execution_count": 14,
   "metadata": {},
   "outputs": [
    {
     "data": {
      "text/plain": [
       "4584.55938697318"
      ]
     },
     "execution_count": 14,
     "metadata": {},
     "output_type": "execute_result"
    }
   ],
   "source": [
    "#Construct a reverse map of indices and movie titles\n",
    "indices = pd.Series(artist_rank['avgPlays'], index=artist_rank.index).drop_duplicates()\n",
    "indices['Britney Spears']"
   ]
  },
  {
   "cell_type": "code",
   "execution_count": 15,
   "metadata": {},
   "outputs": [
    {
     "data": {
      "text/plain": [
       "name\n",
       "Britney Spears                 4584.559387\n",
       "Depeche Mode                   4614.567376\n",
       "Lady Gaga                      2113.563011\n",
       "Christina Aguilera             2600.503686\n",
       "Paramore                       2414.659148\n",
       "                                  ...     \n",
       "Nicolaus Esterhazy Sinfonia       2.500000\n",
       "Blazer Force                      3.000000\n",
       "Jovem Pan                         1.500000\n",
       "Eric Jerardi                      2.000000\n",
       "Jin-Roh                           1.000000\n",
       "Name: avgPlays, Length: 5696, dtype: float64"
      ]
     },
     "execution_count": 15,
     "metadata": {},
     "output_type": "execute_result"
    }
   ],
   "source": [
    "indices"
   ]
  },
  {
   "cell_type": "code",
   "execution_count": 112,
   "metadata": {},
   "outputs": [],
   "source": [
    "from time import time\n",
    "\n",
    "def get_ground_truth(userID):\n",
    "    start = time()\n",
    "    Artists = []\n",
    "    liste = {}\n",
    "    ind = []\n",
    "    L = []\n",
    "    idx = list(plays.artistID[plays['userID']==userID])#indices[title]\n",
    "    for item in idx:\n",
    "        sim_scores = list(enumerate(cosine_sim[item]))\n",
    "        sim_scores = sorted(sim_scores, key=lambda x: x[1], reverse=True)\n",
    "\n",
    "        # Get the scores of the 10 most similar artist\n",
    "        sim_scores = sim_scores[1:11]\n",
    "\n",
    "        # Get the artist indices\n",
    "        artist_indices = [i[0] for i in sim_scores]\n",
    "        ind.append(artist_indices[0])\n",
    "    for each in ind:\n",
    "        p = (artists[artists.id == each]).values\n",
    "        Artists.append(p[0][1])\n",
    "    #print(\"Artists\",Artists)\n",
    "    for k,v in indices.items():\n",
    "        for j in Artists:\n",
    "            if j in str(k):\n",
    "                liste[j]=v\n",
    "    LISTE=sorted(liste.items(), key=lambda t: t[1], reverse=True)\n",
    "    for ar, num in LISTE:\n",
    "        L.append(ar)\n",
    "    t1 = time()-start\n",
    "    t1 = round(t1,3)\n",
    "    print(\"Time = {} secondes\".format(t1))\n",
    "    #return  \"liste des indexs des artistes = {}\".format(ind), \"liste = {}\".format(L[0:11])\n",
    "    return  L[0:11]"
   ]
  },
  {
   "cell_type": "code",
   "execution_count": 113,
   "metadata": {},
   "outputs": [
    {
     "name": "stdout",
     "output_type": "stream",
     "text": [
      "Time = 0.748 secondes\n"
     ]
    },
    {
     "data": {
      "text/plain": [
       "['浜崎あゆみ',\n",
       " 'Tactical Sekt',\n",
       " 'Martin L. Gore',\n",
       " 'Circle II Circle',\n",
       " 'Teen Angels',\n",
       " 'August Burns Red',\n",
       " 'Bat for Lashes',\n",
       " 'The Strokes',\n",
       " 'Adriana Calcanhotto',\n",
       " 'Alice in Chains',\n",
       " 'deadmau5']"
      ]
     },
     "execution_count": 113,
     "metadata": {},
     "output_type": "execute_result"
    }
   ],
   "source": [
    "get_ground_truth(2)"
   ]
  },
  {
   "cell_type": "code",
   "execution_count": 114,
   "metadata": {},
   "outputs": [
    {
     "name": "stdout",
     "output_type": "stream",
     "text": [
      "Time = 0.841 secondes\n"
     ]
    },
    {
     "data": {
      "text/plain": [
       "['Maria Mena',\n",
       " 'Rachel Stevens',\n",
       " 'Ashley Tisdale',\n",
       " 'The National',\n",
       " 'Skinny Puppy',\n",
       " 'Oasis',\n",
       " 'Anahí',\n",
       " 'The Cardigans',\n",
       " 'Hirax',\n",
       " 'The Strokes',\n",
       " 'Anastacia']"
      ]
     },
     "execution_count": 114,
     "metadata": {},
     "output_type": "execute_result"
    }
   ],
   "source": [
    "get_ground_truth(50)"
   ]
  },
  {
   "cell_type": "markdown",
   "metadata": {},
   "source": [
    "# GridSearchCV"
   ]
  },
  {
   "cell_type": "code",
   "execution_count": 31,
   "metadata": {},
   "outputs": [],
   "source": [
    "from sklearn.model_selection import GridSearchCV\n",
    "\n",
    "#x_train, x_test, y_train, y_test = train_test_split(X, y, test_size=0.3, random_state=42)\n",
    "#x_train, y_train = train.shape\n",
    "\n",
    "\n",
    "parametres = {'k': np.arange(10, 20, 5), 'n': np.arange(10, 20, 5), 'learning_schedule':['adagrad', 'adadelta']\n",
    "               , 'learning_rate': np.arange(0, 5, 0.5),'loss':['warp']}#, 'epochs':np.arange(10, 50, 5)}\n",
    "model_grid = GridSearchCV(LightFM(), parametres, cv=3)\n",
    "\n",
    "#model_grid.fit(train, epochs=40, num_threads=2)"
   ]
  },
  {
   "cell_type": "markdown",
   "metadata": {},
   "source": [
    "Dans ce cas c'est difficile d'utiliser le GridDearchCV car on a besoin de y_train"
   ]
  },
  {
   "cell_type": "markdown",
   "metadata": {},
   "source": [
    "## Implémenter GridSearch"
   ]
  },
  {
   "cell_type": "code",
   "execution_count": 93,
   "metadata": {},
   "outputs": [],
   "source": [
    "from time import time\n",
    "from lightfm import LightFM\n",
    "from lightfm.evaluation import auc_score, precision_at_k, recall_at_k #evaluation.auc_score\n",
    "\n",
    "def GridSearch_function():\n",
    "    start = time()\n",
    "    k= np.arange(10, 20, 5)\n",
    "    n =  np.arange(10, 20, 5)\n",
    "    learning_rate = np.arange(0, 4, 0.5)\n",
    "    learning_schedule = ['adagrad', 'adadelta']\n",
    "    res = []\n",
    "    list_ar = []\n",
    "    for item1 in k:\n",
    "        for item2 in n:\n",
    "            for item3 in learning_rate:\n",
    "                for item4 in learning_schedule:\n",
    "                    # Train\n",
    "                    model = LightFM(k = item1, n = item2, learning_rate=item3,learning_schedule = item4, loss='warp')\n",
    "                    model.fit(train, epochs=250, num_threads=2)\n",
    "                    # Evaluate score\n",
    "                    score = auc_score(model, test_interactions=test, train_interactions=None,\n",
    "                              user_features=None, item_features=None,preserve_rows=False\n",
    "                                      , num_threads=1, check_intersections=True).mean()\n",
    "\n",
    "                    resultats = [score]\n",
    "                    liste_resultat = [\"k = {},n = {},l_rate = {},l_schedule = {}\".format(item1,item2,item3,item4), score]\n",
    "                    list_ar.append(liste_resultat)\n",
    "                    ar = np.array(list_ar)\n",
    "                    df = pd.DataFrame(ar, columns = ['param','score'])\n",
    "                    #res.append(resultats)\n",
    "                    #max_score = max(res)\n",
    "    t1 = time()-start\n",
    "    t1 = round(t1,3)\n",
    "    print(\"Time = {} secondes\".format(t1))    \n",
    "    return df.sort_values(by = 'score', ascending = False).iloc[0]"
   ]
  },
  {
   "cell_type": "code",
   "execution_count": 94,
   "metadata": {},
   "outputs": [
    {
     "name": "stdout",
     "output_type": "stream",
     "text": [
      "Time = 2922.52 secondes\n"
     ]
    },
    {
     "data": {
      "text/plain": [
       "param    k = 10,n = 10,l_rate = 3.5,l_schedule = adadelta\n",
       "score                                          0.88891524\n",
       "Name: 15, dtype: object"
      ]
     },
     "execution_count": 94,
     "metadata": {},
     "output_type": "execute_result"
    }
   ],
   "source": [
    "GridSearch_function()"
   ]
  },
  {
   "cell_type": "markdown",
   "metadata": {},
   "source": [
    "### Best parametres\n",
    "\n",
    "#### k = 10,n = 10, learning_rate = 3.5, learning_schedule = adadelta,  on obtient un score  =  0.88891524"
   ]
  },
  {
   "cell_type": "code",
   "execution_count": 95,
   "metadata": {},
   "outputs": [],
   "source": [
    "    \n",
    "def evaluation_model_Best_params():\n",
    "    start = time()\n",
    "    res = []\n",
    "    # Train\n",
    "    model = LightFM(k = 10, n = 10, learning_rate = 3.5, learning_schedule = 'adadelta', loss='warp')\n",
    "    model.fit(train, epochs=250, num_threads=2)\n",
    "    # Evaluate Precision \n",
    "    train_precision = precision_at_k(model, train, k=10).mean()\n",
    "    test_precision = precision_at_k(model, test, k=10, train_interactions=train).mean()\n",
    "    # Evaluate AUC\n",
    "    train_auc = auc_score(model, train).mean()\n",
    "    test_auc = auc_score(model, test, train_interactions=train).mean()\n",
    "    # Evaluate Recall\n",
    "    train_recall = recall_at_k(model, train).mean()\n",
    "    test_recall = recall_at_k(model, test).mean()\n",
    "    score = auc_score(model, test_interactions=test, train_interactions=None,\n",
    "                          user_features=None, item_features=None,preserve_rows=False\n",
    "                                  , num_threads=1, check_intersections=True).mean()\n",
    "\n",
    "    resultats = [train_precision, test_precision, train_auc, test_auc, train_recall, test_recall, score]\n",
    "\n",
    "\n",
    "    res.append(resultats)\n",
    "    #print('res',res)\n",
    "    ar = np.array(res)\n",
    "\n",
    "    df = pd.DataFrame(ar\n",
    "                , columns =['train_precision', 'test_precision', 'train_auc', 'test_auc', 'train_recall', 'test_recall','score'])            \n",
    "    t1 = time()-start\n",
    "    t1 = round(t1,3)\n",
    "    print(\"Time = {} secondes\".format(t1))\n",
    "    return df"
   ]
  },
  {
   "cell_type": "code",
   "execution_count": 96,
   "metadata": {},
   "outputs": [
    {
     "name": "stdout",
     "output_type": "stream",
     "text": [
      "Time = 99.781 secondes\n"
     ]
    },
    {
     "data": {
      "text/html": [
       "<div>\n",
       "<style scoped>\n",
       "    .dataframe tbody tr th:only-of-type {\n",
       "        vertical-align: middle;\n",
       "    }\n",
       "\n",
       "    .dataframe tbody tr th {\n",
       "        vertical-align: top;\n",
       "    }\n",
       "\n",
       "    .dataframe thead th {\n",
       "        text-align: right;\n",
       "    }\n",
       "</style>\n",
       "<table border=\"1\" class=\"dataframe\">\n",
       "  <thead>\n",
       "    <tr style=\"text-align: right;\">\n",
       "      <th></th>\n",
       "      <th>train_precision</th>\n",
       "      <th>test_precision</th>\n",
       "      <th>train_auc</th>\n",
       "      <th>test_auc</th>\n",
       "      <th>train_recall</th>\n",
       "      <th>test_recall</th>\n",
       "      <th>score</th>\n",
       "    </tr>\n",
       "  </thead>\n",
       "  <tbody>\n",
       "    <tr>\n",
       "      <th>0</th>\n",
       "      <td>0.44637</td>\n",
       "      <td>0.144273</td>\n",
       "      <td>0.995728</td>\n",
       "      <td>0.888671</td>\n",
       "      <td>0.115824</td>\n",
       "      <td>0.0883</td>\n",
       "      <td>0.887365</td>\n",
       "    </tr>\n",
       "  </tbody>\n",
       "</table>\n",
       "</div>"
      ],
      "text/plain": [
       "   train_precision  test_precision  train_auc  test_auc  train_recall  \\\n",
       "0          0.44637        0.144273   0.995728  0.888671      0.115824   \n",
       "\n",
       "   test_recall     score  \n",
       "0       0.0883  0.887365  "
      ]
     },
     "execution_count": 96,
     "metadata": {},
     "output_type": "execute_result"
    }
   ],
   "source": [
    "evaluation_model_Best_params()"
   ]
  },
  {
   "cell_type": "markdown",
   "metadata": {},
   "source": [
    "# AUC"
   ]
  },
  {
   "cell_type": "code",
   "execution_count": 36,
   "metadata": {},
   "outputs": [],
   "source": [
    "model_2 = LightFM(learning_rate = 0.05, loss = 'warp', random_state=42)\n",
    "m =[]\n",
    "for i in range(1,30):\n",
    "    model_2.fit_partial(train, epochs=1)\n",
    "    m.append(auc_score(model_2,train).mean())"
   ]
  },
  {
   "cell_type": "code",
   "execution_count": 59,
   "metadata": {},
   "outputs": [
    {
     "data": {
      "text/plain": [
       "Text(0.5, 1.0, 'AUC')"
      ]
     },
     "execution_count": 59,
     "metadata": {},
     "output_type": "execute_result"
    },
    {
     "data": {
      "image/png": "[encoded data removed]",
      "text/plain": [
       "<Figure size 432x288 with 1 Axes>"
      ]
     },
     "metadata": {
      "needs_background": "light"
     },
     "output_type": "display_data"
    }
   ],
   "source": [
    "import matplotlib.pyplot as plt\n",
    "plt.plot(np.array(m))\n",
    "plt.title('AUC')"
   ]
  },
  {
   "cell_type": "markdown",
   "metadata": {},
   "source": [
    "# PCA"
   ]
  },
  {
   "cell_type": "code",
   "execution_count": 39,
   "metadata": {},
   "outputs": [],
   "source": [
    "from sklearn.decomposition import TruncatedSVD\n",
    "\n",
    "\n",
    "clf = TruncatedSVD(100)\n",
    "X_pca = clf.fit_transform(X)"
   ]
  },
  {
   "cell_type": "code",
   "execution_count": 40,
   "metadata": {},
   "outputs": [],
   "source": [
    "def get_recommandation_pca(userID):\n",
    "    n_users, n_items = X_pca.shape\n",
    "    \n",
    "    scores = model.predict(userID, np.arange(n_items))\n",
    "    top_items = artist_names[np.argsort(-scores)]\n",
    "\n",
    "    return top_items[0:10]#.unique()"
   ]
  },
  {
   "cell_type": "code",
   "execution_count": 47,
   "metadata": {},
   "outputs": [
    {
     "data": {
      "text/plain": [
       "array(['Depeche Mode', 'Coldplay', 'Lady Gaga', 'Duran Duran', 'Madonna',\n",
       "       'New Order', 'Marilyn Manson', 'Kylie Minogue', 'Daft Punk',\n",
       "       'Goldfrapp'], dtype=object)"
      ]
     },
     "execution_count": 47,
     "metadata": {},
     "output_type": "execute_result"
    }
   ],
   "source": [
    "get_recommandation_pca(2)"
   ]
  },
  {
   "cell_type": "markdown",
   "metadata": {},
   "source": [
    "# AUC avec les Best parametres"
   ]
  },
  {
   "cell_type": "code",
   "execution_count": 62,
   "metadata": {},
   "outputs": [],
   "source": [
    "model_Best = LightFM(k = 10, n = 10, learning_rate = 0.5, learning_schedule = 'adadelta', loss='warp',random_state=42)\n",
    "m2 =[]\n",
    "for i in range(1,30):\n",
    "    model_Best.fit_partial(train, epochs=1)\n",
    "    m2.append(auc_score(model_Best,train).mean())"
   ]
  },
  {
   "cell_type": "code",
   "execution_count": 68,
   "metadata": {},
   "outputs": [
    {
     "data": {
      "text/plain": [
       "Text(0.5, 1.0, 'AUC with Best parameters')"
      ]
     },
     "execution_count": 68,
     "metadata": {},
     "output_type": "execute_result"
    },
    {
     "data": {
      "image/png": "[encoded data removed]",
      "text/plain": [
       "<Figure size 432x288 with 1 Axes>"
      ]
     },
     "metadata": {
      "needs_background": "light"
     },
     "output_type": "display_data"
    }
   ],
   "source": [
    "import matplotlib.pyplot as plt\n",
    "plt.plot(np.array(m2))\n",
    "plt.title('AUC with Best parameters')"
   ]
  },
  {
   "cell_type": "code",
   "execution_count": null,
   "metadata": {},
   "outputs": [],
   "source": []
  },
  {
   "cell_type": "code",
   "execution_count": null,
   "metadata": {},
   "outputs": [],
   "source": []
  }
 ],
 "metadata": {
  "kernelspec": {
   "display_name": "Python 3",
   "language": "python",
   "name": "python3"
  },
  "language_info": {
   "codemirror_mode": {
    "name": "ipython",
    "version": 3
   },
   "file_extension": ".py",
   "mimetype": "text/x-python",
   "name": "python",
   "nbconvert_exporter": "python",
   "pygments_lexer": "ipython3",
   "version": "3.8.5"
  }
 },
 "nbformat": 4,
 "nbformat_minor": 4
}
