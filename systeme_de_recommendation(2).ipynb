{
 "cells": [
  {
   "cell_type": "markdown",
   "metadata": {
    "id": "n31G866SD87Q"
   },
   "source": [
    "# Systeme de recommendation"
   ]
  },
  {
   "cell_type": "markdown",
   "metadata": {
    "id": "QpRkZckRD87T"
   },
   "source": [
    "# Simple recommenders"
   ]
  },
  {
   "cell_type": "code",
   "execution_count": 1,
   "metadata": {
    "colab": {
     "base_uri": "https://localhost:8080/",
     "height": 434
    },
    "id": "wbn3fr6KD87U",
    "outputId": "384c3c66-eb21-4d37-fb5d-0f904c40d865"
   },
   "outputs": [
    {
     "data": {
      "text/html": [
       "<div>\n",
       "<style scoped>\n",
       "    .dataframe tbody tr th:only-of-type {\n",
       "        vertical-align: middle;\n",
       "    }\n",
       "\n",
       "    .dataframe tbody tr th {\n",
       "        vertical-align: top;\n",
       "    }\n",
       "\n",
       "    .dataframe thead th {\n",
       "        text-align: right;\n",
       "    }\n",
       "</style>\n",
       "<table border=\"1\" class=\"dataframe\">\n",
       "  <thead>\n",
       "    <tr style=\"text-align: right;\">\n",
       "      <th></th>\n",
       "      <th>adult</th>\n",
       "      <th>belongs_to_collection</th>\n",
       "      <th>budget</th>\n",
       "      <th>genres</th>\n",
       "      <th>homepage</th>\n",
       "      <th>id</th>\n",
       "      <th>imdb_id</th>\n",
       "      <th>original_language</th>\n",
       "      <th>original_title</th>\n",
       "      <th>overview</th>\n",
       "      <th>...</th>\n",
       "      <th>release_date</th>\n",
       "      <th>revenue</th>\n",
       "      <th>runtime</th>\n",
       "      <th>spoken_languages</th>\n",
       "      <th>status</th>\n",
       "      <th>tagline</th>\n",
       "      <th>title</th>\n",
       "      <th>video</th>\n",
       "      <th>vote_average</th>\n",
       "      <th>vote_count</th>\n",
       "    </tr>\n",
       "  </thead>\n",
       "  <tbody>\n",
       "    <tr>\n",
       "      <th>0</th>\n",
       "      <td>False</td>\n",
       "      <td>{'id': 10194, 'name': 'Toy Story Collection', ...</td>\n",
       "      <td>30000000</td>\n",
       "      <td>[{'id': 16, 'name': 'Animation'}, {'id': 35, '...</td>\n",
       "      <td>http://toystory.disney.com/toy-story</td>\n",
       "      <td>862</td>\n",
       "      <td>tt0114709</td>\n",
       "      <td>en</td>\n",
       "      <td>Toy Story</td>\n",
       "      <td>Led by Woody, Andy's toys live happily in his ...</td>\n",
       "      <td>...</td>\n",
       "      <td>1995-10-30</td>\n",
       "      <td>373554033.0</td>\n",
       "      <td>81.0</td>\n",
       "      <td>[{'iso_639_1': 'en', 'name': 'English'}]</td>\n",
       "      <td>Released</td>\n",
       "      <td>NaN</td>\n",
       "      <td>Toy Story</td>\n",
       "      <td>False</td>\n",
       "      <td>7.7</td>\n",
       "      <td>5415.0</td>\n",
       "    </tr>\n",
       "    <tr>\n",
       "      <th>1</th>\n",
       "      <td>False</td>\n",
       "      <td>NaN</td>\n",
       "      <td>65000000</td>\n",
       "      <td>[{'id': 12, 'name': 'Adventure'}, {'id': 14, '...</td>\n",
       "      <td>NaN</td>\n",
       "      <td>8844</td>\n",
       "      <td>tt0113497</td>\n",
       "      <td>en</td>\n",
       "      <td>Jumanji</td>\n",
       "      <td>When siblings Judy and Peter discover an encha...</td>\n",
       "      <td>...</td>\n",
       "      <td>1995-12-15</td>\n",
       "      <td>262797249.0</td>\n",
       "      <td>104.0</td>\n",
       "      <td>[{'iso_639_1': 'en', 'name': 'English'}, {'iso...</td>\n",
       "      <td>Released</td>\n",
       "      <td>Roll the dice and unleash the excitement!</td>\n",
       "      <td>Jumanji</td>\n",
       "      <td>False</td>\n",
       "      <td>6.9</td>\n",
       "      <td>2413.0</td>\n",
       "    </tr>\n",
       "    <tr>\n",
       "      <th>2</th>\n",
       "      <td>False</td>\n",
       "      <td>{'id': 119050, 'name': 'Grumpy Old Men Collect...</td>\n",
       "      <td>0</td>\n",
       "      <td>[{'id': 10749, 'name': 'Romance'}, {'id': 35, ...</td>\n",
       "      <td>NaN</td>\n",
       "      <td>15602</td>\n",
       "      <td>tt0113228</td>\n",
       "      <td>en</td>\n",
       "      <td>Grumpier Old Men</td>\n",
       "      <td>A family wedding reignites the ancient feud be...</td>\n",
       "      <td>...</td>\n",
       "      <td>1995-12-22</td>\n",
       "      <td>0.0</td>\n",
       "      <td>101.0</td>\n",
       "      <td>[{'iso_639_1': 'en', 'name': 'English'}]</td>\n",
       "      <td>Released</td>\n",
       "      <td>Still Yelling. Still Fighting. Still Ready for...</td>\n",
       "      <td>Grumpier Old Men</td>\n",
       "      <td>False</td>\n",
       "      <td>6.5</td>\n",
       "      <td>92.0</td>\n",
       "    </tr>\n",
       "  </tbody>\n",
       "</table>\n",
       "<p>3 rows × 24 columns</p>\n",
       "</div>"
      ],
      "text/plain": [
       "   adult                              belongs_to_collection    budget  \\\n",
       "0  False  {'id': 10194, 'name': 'Toy Story Collection', ...  30000000   \n",
       "1  False                                                NaN  65000000   \n",
       "2  False  {'id': 119050, 'name': 'Grumpy Old Men Collect...         0   \n",
       "\n",
       "                                              genres  \\\n",
       "0  [{'id': 16, 'name': 'Animation'}, {'id': 35, '...   \n",
       "1  [{'id': 12, 'name': 'Adventure'}, {'id': 14, '...   \n",
       "2  [{'id': 10749, 'name': 'Romance'}, {'id': 35, ...   \n",
       "\n",
       "                               homepage     id    imdb_id original_language  \\\n",
       "0  http://toystory.disney.com/toy-story    862  tt0114709                en   \n",
       "1                                   NaN   8844  tt0113497                en   \n",
       "2                                   NaN  15602  tt0113228                en   \n",
       "\n",
       "     original_title                                           overview  ...  \\\n",
       "0         Toy Story  Led by Woody, Andy's toys live happily in his ...  ...   \n",
       "1           Jumanji  When siblings Judy and Peter discover an encha...  ...   \n",
       "2  Grumpier Old Men  A family wedding reignites the ancient feud be...  ...   \n",
       "\n",
       "  release_date      revenue runtime  \\\n",
       "0   1995-10-30  373554033.0    81.0   \n",
       "1   1995-12-15  262797249.0   104.0   \n",
       "2   1995-12-22          0.0   101.0   \n",
       "\n",
       "                                    spoken_languages    status  \\\n",
       "0           [{'iso_639_1': 'en', 'name': 'English'}]  Released   \n",
       "1  [{'iso_639_1': 'en', 'name': 'English'}, {'iso...  Released   \n",
       "2           [{'iso_639_1': 'en', 'name': 'English'}]  Released   \n",
       "\n",
       "                                             tagline             title  video  \\\n",
       "0                                                NaN         Toy Story  False   \n",
       "1          Roll the dice and unleash the excitement!           Jumanji  False   \n",
       "2  Still Yelling. Still Fighting. Still Ready for...  Grumpier Old Men  False   \n",
       "\n",
       "  vote_average vote_count  \n",
       "0          7.7     5415.0  \n",
       "1          6.9     2413.0  \n",
       "2          6.5       92.0  \n",
       "\n",
       "[3 rows x 24 columns]"
      ]
     },
     "execution_count": 1,
     "metadata": {},
     "output_type": "execute_result"
    }
   ],
   "source": [
    "# Import Pandas\n",
    "import pandas as pd\n",
    "\n",
    "# Load Movies Metadata\n",
    "metadata = pd.read_csv('movies_metadata.csv', low_memory=False)\n",
    "\n",
    "# Print the first three rows\n",
    "metadata.head(3)"
   ]
  },
  {
   "cell_type": "code",
   "execution_count": 2,
   "metadata": {
    "colab": {
     "base_uri": "https://localhost:8080/"
    },
    "id": "tBY3uctkD87V",
    "outputId": "55fdf5be-5dfc-4e17-e5a6-9adf5d78f35c"
   },
   "outputs": [
    {
     "data": {
      "text/plain": [
       "Index(['adult', 'belongs_to_collection', 'budget', 'genres', 'homepage', 'id',\n",
       "       'imdb_id', 'original_language', 'original_title', 'overview',\n",
       "       'popularity', 'poster_path', 'production_companies',\n",
       "       'production_countries', 'release_date', 'revenue', 'runtime',\n",
       "       'spoken_languages', 'status', 'tagline', 'title', 'video',\n",
       "       'vote_average', 'vote_count'],\n",
       "      dtype='object')"
      ]
     },
     "execution_count": 2,
     "metadata": {},
     "output_type": "execute_result"
    }
   ],
   "source": [
    "#metadata.info()\n",
    "metadata.columns\n",
    "#metadata.index"
   ]
  },
  {
   "cell_type": "markdown",
   "metadata": {
    "id": "3daXHhAID87V"
   },
   "source": [
    "W e i gh t e dR a t i n g( W R ) = ((v/(v + m))⋅ R ) + ((m/(v + m))⋅ C )\n",
    "Dans l'équation ci-dessus,\n",
    "\n",
    "- v est le nombre de votes pour le film;\n",
    "\n",
    "- m est le nombre minimum de votes requis pour figurer dans le tableau;\n",
    "\n",
    "- R est la note moyenne du film;\n",
    "\n",
    "- C est le vote moyen sur l'ensemble du rapport.\n",
    "\n",
    "Vous disposez déjà des valeurs v (vote_count)et R (vote_average)pour chaque film du jeu de données. Il est également possible de calculer directement C à partir de ces données.\n",
    "\n"
   ]
  },
  {
   "cell_type": "code",
   "execution_count": 3,
   "metadata": {
    "colab": {
     "base_uri": "https://localhost:8080/"
    },
    "id": "ZbtEoplZD87W",
    "outputId": "841da855-6a6f-42f2-8ecc-1e009aecf5e6"
   },
   "outputs": [
    {
     "name": "stdout",
     "output_type": "stream",
     "text": [
      "5.618207215134185\n"
     ]
    }
   ],
   "source": [
    "# Calculate mean of vote average column\n",
    "C = metadata['vote_average'].mean()\n",
    "print(C)"
   ]
  },
  {
   "cell_type": "code",
   "execution_count": 4,
   "metadata": {
    "colab": {
     "base_uri": "https://localhost:8080/"
    },
    "id": "-mvr7rvkD87W",
    "outputId": "82da52b9-d671-498a-93dd-e31480fa8d30"
   },
   "outputs": [
    {
     "name": "stdout",
     "output_type": "stream",
     "text": [
      "160.0\n"
     ]
    }
   ],
   "source": [
    "# Calculate the minimum number of votes required to be in the chart, m\n",
    "m = metadata['vote_count'].quantile(0.90)\n",
    "print(m)"
   ]
  },
  {
   "cell_type": "code",
   "execution_count": 5,
   "metadata": {
    "colab": {
     "base_uri": "https://localhost:8080/"
    },
    "id": "20SBu4L-D87X",
    "outputId": "e90f796f-de37-4469-92c3-f8591da90e16"
   },
   "outputs": [
    {
     "data": {
      "text/plain": [
       "(4555, 24)"
      ]
     },
     "execution_count": 5,
     "metadata": {},
     "output_type": "execute_result"
    }
   ],
   "source": [
    "# Filter out all qualified movies into a new DataFrame\n",
    "q_movies = metadata.copy().loc[metadata['vote_count'] >= m]\n",
    "q_movies.shape"
   ]
  },
  {
   "cell_type": "code",
   "execution_count": 6,
   "metadata": {
    "colab": {
     "base_uri": "https://localhost:8080/"
    },
    "id": "A2SuF7AvD87Y",
    "outputId": "0dd3b110-c0fb-41fe-c29c-a24abfed7111"
   },
   "outputs": [
    {
     "data": {
      "text/plain": [
       "(45466, 24)"
      ]
     },
     "execution_count": 6,
     "metadata": {},
     "output_type": "execute_result"
    }
   ],
   "source": [
    "metadata.shape"
   ]
  },
  {
   "cell_type": "code",
   "execution_count": 7,
   "metadata": {
    "id": "6N05Hu4JD87Y"
   },
   "outputs": [],
   "source": [
    "# Function that computes the weighted rating of each movie\n",
    "def weighted_rating(x, m=m, C=C):\n",
    "    v = x['vote_count']\n",
    "    R = x['vote_average']\n",
    "    # Calculation based on the IMDB formula\n",
    "    return (v/(v+m) * R) + (m/(m+v) * C)"
   ]
  },
  {
   "cell_type": "code",
   "execution_count": 8,
   "metadata": {
    "id": "Br7fhoimD87Y"
   },
   "outputs": [],
   "source": [
    "# Define a new feature 'score' and calculate its value with `weighted_rating()`\n",
    "q_movies['score'] = q_movies.apply(weighted_rating, axis=1)"
   ]
  },
  {
   "cell_type": "code",
   "execution_count": 9,
   "metadata": {
    "colab": {
     "base_uri": "https://localhost:8080/",
     "height": 669
    },
    "id": "d-yzYSOcD87Z",
    "outputId": "e47917f2-24e2-4cfb-db74-cd182562224c"
   },
   "outputs": [
    {
     "data": {
      "text/html": [
       "<div>\n",
       "<style scoped>\n",
       "    .dataframe tbody tr th:only-of-type {\n",
       "        vertical-align: middle;\n",
       "    }\n",
       "\n",
       "    .dataframe tbody tr th {\n",
       "        vertical-align: top;\n",
       "    }\n",
       "\n",
       "    .dataframe thead th {\n",
       "        text-align: right;\n",
       "    }\n",
       "</style>\n",
       "<table border=\"1\" class=\"dataframe\">\n",
       "  <thead>\n",
       "    <tr style=\"text-align: right;\">\n",
       "      <th></th>\n",
       "      <th>title</th>\n",
       "      <th>vote_count</th>\n",
       "      <th>vote_average</th>\n",
       "      <th>score</th>\n",
       "    </tr>\n",
       "  </thead>\n",
       "  <tbody>\n",
       "    <tr>\n",
       "      <th>314</th>\n",
       "      <td>The Shawshank Redemption</td>\n",
       "      <td>8358.0</td>\n",
       "      <td>8.5</td>\n",
       "      <td>8.445869</td>\n",
       "    </tr>\n",
       "    <tr>\n",
       "      <th>834</th>\n",
       "      <td>The Godfather</td>\n",
       "      <td>6024.0</td>\n",
       "      <td>8.5</td>\n",
       "      <td>8.425439</td>\n",
       "    </tr>\n",
       "    <tr>\n",
       "      <th>10309</th>\n",
       "      <td>Dilwale Dulhania Le Jayenge</td>\n",
       "      <td>661.0</td>\n",
       "      <td>9.1</td>\n",
       "      <td>8.421453</td>\n",
       "    </tr>\n",
       "    <tr>\n",
       "      <th>12481</th>\n",
       "      <td>The Dark Knight</td>\n",
       "      <td>12269.0</td>\n",
       "      <td>8.3</td>\n",
       "      <td>8.265477</td>\n",
       "    </tr>\n",
       "    <tr>\n",
       "      <th>2843</th>\n",
       "      <td>Fight Club</td>\n",
       "      <td>9678.0</td>\n",
       "      <td>8.3</td>\n",
       "      <td>8.256385</td>\n",
       "    </tr>\n",
       "    <tr>\n",
       "      <th>292</th>\n",
       "      <td>Pulp Fiction</td>\n",
       "      <td>8670.0</td>\n",
       "      <td>8.3</td>\n",
       "      <td>8.251406</td>\n",
       "    </tr>\n",
       "    <tr>\n",
       "      <th>522</th>\n",
       "      <td>Schindler's List</td>\n",
       "      <td>4436.0</td>\n",
       "      <td>8.3</td>\n",
       "      <td>8.206639</td>\n",
       "    </tr>\n",
       "    <tr>\n",
       "      <th>23673</th>\n",
       "      <td>Whiplash</td>\n",
       "      <td>4376.0</td>\n",
       "      <td>8.3</td>\n",
       "      <td>8.205404</td>\n",
       "    </tr>\n",
       "    <tr>\n",
       "      <th>5481</th>\n",
       "      <td>Spirited Away</td>\n",
       "      <td>3968.0</td>\n",
       "      <td>8.3</td>\n",
       "      <td>8.196055</td>\n",
       "    </tr>\n",
       "    <tr>\n",
       "      <th>2211</th>\n",
       "      <td>Life Is Beautiful</td>\n",
       "      <td>3643.0</td>\n",
       "      <td>8.3</td>\n",
       "      <td>8.187171</td>\n",
       "    </tr>\n",
       "    <tr>\n",
       "      <th>1178</th>\n",
       "      <td>The Godfather: Part II</td>\n",
       "      <td>3418.0</td>\n",
       "      <td>8.3</td>\n",
       "      <td>8.180076</td>\n",
       "    </tr>\n",
       "    <tr>\n",
       "      <th>1152</th>\n",
       "      <td>One Flew Over the Cuckoo's Nest</td>\n",
       "      <td>3001.0</td>\n",
       "      <td>8.3</td>\n",
       "      <td>8.164256</td>\n",
       "    </tr>\n",
       "    <tr>\n",
       "      <th>351</th>\n",
       "      <td>Forrest Gump</td>\n",
       "      <td>8147.0</td>\n",
       "      <td>8.2</td>\n",
       "      <td>8.150272</td>\n",
       "    </tr>\n",
       "    <tr>\n",
       "      <th>1154</th>\n",
       "      <td>The Empire Strikes Back</td>\n",
       "      <td>5998.0</td>\n",
       "      <td>8.2</td>\n",
       "      <td>8.132919</td>\n",
       "    </tr>\n",
       "    <tr>\n",
       "      <th>1176</th>\n",
       "      <td>Psycho</td>\n",
       "      <td>2405.0</td>\n",
       "      <td>8.3</td>\n",
       "      <td>8.132715</td>\n",
       "    </tr>\n",
       "    <tr>\n",
       "      <th>18465</th>\n",
       "      <td>The Intouchables</td>\n",
       "      <td>5410.0</td>\n",
       "      <td>8.2</td>\n",
       "      <td>8.125837</td>\n",
       "    </tr>\n",
       "    <tr>\n",
       "      <th>40251</th>\n",
       "      <td>Your Name.</td>\n",
       "      <td>1030.0</td>\n",
       "      <td>8.5</td>\n",
       "      <td>8.112532</td>\n",
       "    </tr>\n",
       "    <tr>\n",
       "      <th>289</th>\n",
       "      <td>Leon: The Professional</td>\n",
       "      <td>4293.0</td>\n",
       "      <td>8.2</td>\n",
       "      <td>8.107234</td>\n",
       "    </tr>\n",
       "    <tr>\n",
       "      <th>3030</th>\n",
       "      <td>The Green Mile</td>\n",
       "      <td>4166.0</td>\n",
       "      <td>8.2</td>\n",
       "      <td>8.104511</td>\n",
       "    </tr>\n",
       "    <tr>\n",
       "      <th>1170</th>\n",
       "      <td>GoodFellas</td>\n",
       "      <td>3211.0</td>\n",
       "      <td>8.2</td>\n",
       "      <td>8.077459</td>\n",
       "    </tr>\n",
       "  </tbody>\n",
       "</table>\n",
       "</div>"
      ],
      "text/plain": [
       "                                 title  vote_count  vote_average     score\n",
       "314           The Shawshank Redemption      8358.0           8.5  8.445869\n",
       "834                      The Godfather      6024.0           8.5  8.425439\n",
       "10309      Dilwale Dulhania Le Jayenge       661.0           9.1  8.421453\n",
       "12481                  The Dark Knight     12269.0           8.3  8.265477\n",
       "2843                        Fight Club      9678.0           8.3  8.256385\n",
       "292                       Pulp Fiction      8670.0           8.3  8.251406\n",
       "522                   Schindler's List      4436.0           8.3  8.206639\n",
       "23673                         Whiplash      4376.0           8.3  8.205404\n",
       "5481                     Spirited Away      3968.0           8.3  8.196055\n",
       "2211                 Life Is Beautiful      3643.0           8.3  8.187171\n",
       "1178            The Godfather: Part II      3418.0           8.3  8.180076\n",
       "1152   One Flew Over the Cuckoo's Nest      3001.0           8.3  8.164256\n",
       "351                       Forrest Gump      8147.0           8.2  8.150272\n",
       "1154           The Empire Strikes Back      5998.0           8.2  8.132919\n",
       "1176                            Psycho      2405.0           8.3  8.132715\n",
       "18465                 The Intouchables      5410.0           8.2  8.125837\n",
       "40251                       Your Name.      1030.0           8.5  8.112532\n",
       "289             Leon: The Professional      4293.0           8.2  8.107234\n",
       "3030                    The Green Mile      4166.0           8.2  8.104511\n",
       "1170                        GoodFellas      3211.0           8.2  8.077459"
      ]
     },
     "execution_count": 9,
     "metadata": {},
     "output_type": "execute_result"
    }
   ],
   "source": [
    "#Sort movies based on score calculated above\n",
    "q_movies = q_movies.sort_values('score', ascending=False)\n",
    "\n",
    "#Print the top 15 movies\n",
    "q_movies[['title', 'vote_count', 'vote_average', 'score']].head(20)"
   ]
  },
  {
   "cell_type": "markdown",
   "metadata": {
    "id": "qtnsIipfD87Z"
   },
   "source": [
    "# Content-Based Recommender"
   ]
  },
  {
   "cell_type": "code",
   "execution_count": 10,
   "metadata": {
    "colab": {
     "base_uri": "https://localhost:8080/"
    },
    "id": "_FnRDZKgD87a",
    "outputId": "b26cf192-7680-4cce-b6a0-40fbefd0abc9"
   },
   "outputs": [
    {
     "data": {
      "text/plain": [
       "0    Led by Woody, Andy's toys live happily in his ...\n",
       "1    When siblings Judy and Peter discover an encha...\n",
       "2    A family wedding reignites the ancient feud be...\n",
       "3    Cheated on, mistreated and stepped on, the wom...\n",
       "4    Just when George Banks has recovered from his ...\n",
       "Name: overview, dtype: object"
      ]
     },
     "execution_count": 10,
     "metadata": {},
     "output_type": "execute_result"
    }
   ],
   "source": [
    "#Print plot overviews of the first 5 movies.\n",
    "metadata['overview'].head()\n"
   ]
  },
  {
   "cell_type": "code",
   "execution_count": 11,
   "metadata": {
    "colab": {
     "base_uri": "https://localhost:8080/"
    },
    "id": "anq1coPeD87a",
    "outputId": "ea2b7440-61f6-4dda-80a5-f646b4c17490"
   },
   "outputs": [
    {
     "data": {
      "text/plain": [
       "(45466, 75827)"
      ]
     },
     "execution_count": 11,
     "metadata": {},
     "output_type": "execute_result"
    }
   ],
   "source": [
    "#Import TfIdfVectorizer from scikit-learn\n",
    "from sklearn.feature_extraction.text import TfidfVectorizer\n",
    "\n",
    "#Define a TF-IDF Vectorizer Object. Remove all english stop words such as 'the', 'a'\n",
    "tfidf = TfidfVectorizer(stop_words='english')\n",
    "\n",
    "#Replace NaN with an empty string\n",
    "metadata['overview'] = metadata['overview'].fillna('')\n",
    "\n",
    "#Construct the required TF-IDF matrix by fitting and transforming the data\n",
    "tfidf_matrix = tfidf.fit_transform(metadata['overview'])\n",
    "\n",
    "#Output the shape of tfidf_matrix\n",
    "tfidf_matrix.shape"
   ]
  },
  {
   "cell_type": "code",
   "execution_count": 12,
   "metadata": {
    "colab": {
     "base_uri": "https://localhost:8080/"
    },
    "id": "MqIOuBloD87b",
    "outputId": "da9d725d-5a55-4acf-9d59-28ada627f30a"
   },
   "outputs": [
    {
     "data": {
      "text/plain": [
       "['avails',\n",
       " 'avaks',\n",
       " 'avalanche',\n",
       " 'avalanches',\n",
       " 'avallone',\n",
       " 'avalon',\n",
       " 'avant',\n",
       " 'avanthika',\n",
       " 'avanti',\n",
       " 'avaracious']"
      ]
     },
     "execution_count": 12,
     "metadata": {},
     "output_type": "execute_result"
    }
   ],
   "source": [
    "#Array mapping from feature integer indices to feature name.\n",
    "tfidf.get_feature_names()[5000:5010]"
   ]
  },
  {
   "cell_type": "code",
   "execution_count": 13,
   "metadata": {
    "colab": {
     "base_uri": "https://localhost:8080/"
    },
    "id": "5IM_R2vcD87b",
    "outputId": "040730b2-eaf6-4f71-e909-ca488941b85b"
   },
   "outputs": [
    {
     "name": "stdout",
     "output_type": "stream",
     "text": [
      "<class 'sklearn.feature_extraction.text.TfidfVectorizer'>\n",
      "<class 'scipy.sparse.csr.csr_matrix'>\n"
     ]
    }
   ],
   "source": [
    "tfidf.get_feature_names()[10000:10010]\n",
    "print(type(tfidf))\n",
    "print(type(tfidf_matrix))"
   ]
  },
  {
   "cell_type": "code",
   "execution_count": 14,
   "metadata": {
    "colab": {
     "base_uri": "https://localhost:8080/"
    },
    "id": "MOb7fBrU64YZ",
    "outputId": "498c7aa5-8eb6-485f-d6cd-81a01144f863"
   },
   "outputs": [
    {
     "name": "stdout",
     "output_type": "stream",
     "text": [
      "  (0, 48535)\t0.18049429545229065\n",
      "  (0, 5738)\t0.19585698339220603\n",
      "  (0, 55759)\t0.13584863622917445\n",
      "  (0, 23549)\t0.15706441466021728\n",
      "  (0, 8762)\t0.16113959761837482\n",
      "  (0, 37195)\t0.15587999618007012\n",
      "  (0, 59357)\t0.18272563914280895\n",
      "  (0, 4540)\t0.14218310171712914\n",
      "  (0, 55594)\t0.13049860729111584\n",
      "  (0, 55828)\t0.17352792407794762\n",
      "  (0, 66498)\t0.12046380389722414\n",
      "  (0, 64285)\t0.1465502629835388\n",
      "  (0, 17064)\t0.1231203821914654\n",
      "  (0, 6214)\t0.2975632133481142\n",
      "  (0, 17032)\t0.37635127884449665\n",
      "  (0, 28939)\t0.14958787836314244\n",
      "  (0, 18457)\t0.12810093658637228\n",
      "  (0, 27103)\t0.3166557021739029\n",
      "  (0, 20934)\t0.11076875808479081\n",
      "  (0, 24163)\t0.1031405544728993\n",
      "  (0, 51321)\t0.08428187140453369\n",
      "  (0, 36331)\t0.14032690939902004\n",
      "  (0, 31025)\t0.13687291406658086\n",
      "  (0, 71380)\t0.1476331019965685\n",
      "  (0, 37769)\t0.10096447720065604\n",
      "  (0, 21013)\t0.11296034410021596\n",
      "  (0, 4767)\t0.2529050947195973\n",
      "  (0, 15076)\t0.12363661373028578\n",
      "  (0, 12528)\t0.1585323542008791\n",
      "  (0, 37773)\t0.08944992162800533\n",
      "  (0, 16327)\t0.07863298520257676\n",
      "  (0, 52716)\t0.2159250038488658\n",
      "  (0, 46083)\t0.06092147612272881\n",
      "  (0, 16082)\t0.09924243518672438\n",
      "  (0, 37980)\t0.10213869619459322\n",
      "  (0, 45067)\t0.08575350151297959\n",
      "  (0, 74030)\t0.06941058671372992\n"
     ]
    }
   ],
   "source": [
    "print(tfidf_matrix[18252])"
   ]
  },
  {
   "cell_type": "code",
   "execution_count": 15,
   "metadata": {
    "colab": {
     "base_uri": "https://localhost:8080/"
    },
    "id": "pzA2ObyRD87b",
    "outputId": "7c1c90fc-7375-4ff1-a96e-38e3314bbd0f"
   },
   "outputs": [
    {
     "name": "stdout",
     "output_type": "stream",
     "text": [
      "le nombre de mots dans tout le data = 75827 mots\n"
     ]
    }
   ],
   "source": [
    "print(\"le nombre de mots dans tout le data = {} mots\".format(len(tfidf.get_feature_names())))"
   ]
  },
  {
   "cell_type": "markdown",
   "metadata": {
    "id": "tNV0R1nqD87c"
   },
   "source": [
    "on va utiliser **cosine similarity** pour calculer une quantité numérique indiquant la similitude entre deux films, car il est indépendant de la magnitude et est relativement facile et rapide à calculer (en particulier lorsqu'il est utilisé en conjonction avec les scores TF-IDF)  \n",
    "\n",
    "![equation](https://res.cloudinary.com/dyd911kmh/image/upload/f_auto,q_auto:best/v1590782185/cos_aalkpq.png)  \n",
    "\n",
    "\n",
    "on va sklearn's linear_kernel()au lieu de cosine_similarities()car il est plus rapide.  \n",
    "\n",
    "\n",
    "chaque film sera un vecteur de colonne 1x45466 où chaque colonne sera un score de similitude avec chaque film"
   ]
  },
  {
   "cell_type": "markdown",
   "metadata": {
    "id": "dLA2jQDjVYvW"
   },
   "source": [
    "## Utiliser cosine_similarity pour faire le produit d'une matrice et d'un vecteur"
   ]
  },
  {
   "cell_type": "code",
   "execution_count": 16,
   "metadata": {
    "colab": {
     "base_uri": "https://localhost:8080/"
    },
    "id": "kp8R9soVD87c",
    "outputId": "b106dd0e-46a4-4f5e-da0e-908550fd4853"
   },
   "outputs": [
    {
     "name": "stdout",
     "output_type": "stream",
     "text": [
      "(45466, 1)\n"
     ]
    }
   ],
   "source": [
    "# Import linear_kernel\n",
    "from sklearn.metrics.pairwise import linear_kernel, cosine_similarity\n",
    "\n",
    "# Compute the cosine similarity matrix\n",
    "#cosine_sim = linear_kernel(tfidf_matrix, tfidf_matrix) à ne pas executer car plante le noyau\n",
    "\n",
    "# avec l'argument \"dense_output=False\" ça passe mais sur google colab car il nous transforme la matrice dense\n",
    "# en matrice sparce(creuse)\n",
    "#cosine_sim = linear_kernel(tfidf_matrix, tfidf_matrix, dense_output=False)\n",
    "\n",
    "# une autre façcon de calculer la \n",
    "cosine_sim = cosine_similarity(tfidf_matrix, tfidf_matrix[18252])\n",
    "#on le fait pour avoir une dimension de(45466,45466) au lieu de(45466,75827)qui(nbfilm,nbmots)\n",
    "print(cosine_sim.shape)\n",
    "\n"
   ]
  },
  {
   "cell_type": "code",
   "execution_count": 17,
   "metadata": {
    "colab": {
     "base_uri": "https://localhost:8080/"
    },
    "id": "fdUnGtlNFTqS",
    "outputId": "b6e731fb-ab25-4578-dbed-db10cbd97206"
   },
   "outputs": [
    {
     "name": "stdout",
     "output_type": "stream",
     "text": [
      "[[0.        ]\n",
      " [0.00599988]\n",
      " [0.        ]\n",
      " ...\n",
      " [0.        ]\n",
      " [0.00642247]\n",
      " [0.00746305]]\n",
      "<class 'numpy.ndarray'>\n"
     ]
    }
   ],
   "source": [
    "print(cosine_sim) \n",
    "print(type(cosine_sim))"
   ]
  },
  {
   "cell_type": "code",
   "execution_count": 18,
   "metadata": {
    "colab": {
     "base_uri": "https://localhost:8080/"
    },
    "id": "KGBwsq3wD87d",
    "outputId": "fe06ab6e-db59-4b92-a8d9-27a22824f119"
   },
   "outputs": [
    {
     "data": {
      "text/plain": [
       "array([0.00599988])"
      ]
     },
     "execution_count": 18,
     "metadata": {},
     "output_type": "execute_result"
    }
   ],
   "source": [
    "# affiche la première ligne de la matrice cosine_sim\n",
    "import numpy as np\n",
    "\n",
    "cosine_sim[1]\n",
    "#print(cosine_sim[0:4,0:2])\n",
    "#fff = np.array(cosine_sim[0:4,0:2])\n",
    "#print(fff)\n",
    "# on obtient \n",
    "#(array([0.01504121, 1.        , 0.04681953, ..., 0.        , 0.02198641, 0.00929411])"
   ]
  },
  {
   "cell_type": "markdown",
   "metadata": {
    "id": "4vpchwBqD87d"
   },
   "source": [
    "On va définir une fonction qui prend un titre de film comme entrée et génère une liste des 10 films les plus similaires.  \n",
    "\n",
    "Tout d'abord, pour cela, on a besoin d'un mappage inversé des titres de films et des indices DataFrame.  \n",
    "En d'autres termes, on a besoin d'un mécanisme pour identifier l'index d'un film dans votre metadataDataFrame, compte tenu de son titre."
   ]
  },
  {
   "cell_type": "markdown",
   "metadata": {
    "id": "kVkdgTYAD87d"
   },
   "source": [
    "pd.Series \"Création d'une série, c'est à dire d'un vecteur de valeurs\""
   ]
  },
  {
   "cell_type": "code",
   "execution_count": 19,
   "metadata": {
    "colab": {
     "base_uri": "https://localhost:8080/"
    },
    "id": "iKadNMLFD87e",
    "outputId": "3bab2898-5bca-4b26-f081-dc2aec2b4f03"
   },
   "outputs": [
    {
     "data": {
      "text/plain": [
       "18252"
      ]
     },
     "execution_count": 19,
     "metadata": {},
     "output_type": "execute_result"
    }
   ],
   "source": [
    "#Construct a reverse map of indices and movie titles\n",
    "indices = pd.Series(metadata.index, index=metadata['title']).drop_duplicates()\n",
    "\n",
    "indices[:10]\n",
    "indices['The Dark Knight Rises']"
   ]
  },
  {
   "cell_type": "markdown",
   "metadata": {
    "id": "JR6UXgDAD87e"
   },
   "source": [
    "on définir une fonction de recommandation. Voici les étapes que vous suivrez:\n",
    "\n",
    "Obtenez l'index du film en fonction de son titre.\n",
    "\n",
    "Obtenez la liste des scores de similarité cosinus pour ce film particulier avec tous les films. \n",
    "\n",
    "Convertissez-le en une liste de tuples où le premier élément est sa position et le second est le score de similarité.\n",
    "\n",
    "Trier la liste susmentionnée de tuples en fonction des scores de similitude; c'est-à-dire le deuxième élément.\n",
    "\n",
    "Obtenez les 10 principaux éléments de cette liste. Ignorez le premier élément car il se réfère à soi (le film le plus similaire à un film particulier est le film lui-même).\n",
    "\n",
    "Renvoie les titres correspondant aux indices des éléments supérieurs.\n",
    "\n"
   ]
  },
  {
   "cell_type": "markdown",
   "metadata": {},
   "source": [
    "# Quelle est la complexité en mémoire de cette opération ?   \n",
    "\n",
    "La complexité en temps compte le nombre d'étapes de calcul. Il y a plusieurs façons de définir ces étapes, par exemple le nombre d'opérations dans une machine RAM1, ou des mesures plus théoriques comme le nombre de comparaisons dans le cas d'un algorithme de tri ou le nombre de pas d'une machine de Turing.  \n",
    "\n",
    "Ici on a un tableau de dimension 45000 x 45000"
   ]
  },
  {
   "cell_type": "code",
   "execution_count": 20,
   "metadata": {},
   "outputs": [
    {
     "name": "stdout",
     "output_type": "stream",
     "text": [
      "espace minimum pour pouvoir faire ce calcul = 162.0 en Gbit\n"
     ]
    }
   ],
   "source": [
    "dim = 45000 * 45000\n",
    "espace = (dim * 8 )/ 100000000#8 octet\n",
    "print(\"espace minimum pour pouvoir faire ce calcul = {} en Gbit\".format(espace)) "
   ]
  },
  {
   "cell_type": "markdown",
   "metadata": {
    "id": "OmNSg21KV0xs"
   },
   "source": [
    "# **get_recommandations simple**"
   ]
  },
  {
   "cell_type": "code",
   "execution_count": 21,
   "metadata": {
    "id": "nAj6cz0ZD87e"
   },
   "outputs": [],
   "source": [
    "from time import time\n",
    "\n",
    "\n",
    "# Function that takes in movie title as input and outputs most similar movies\n",
    "def get_recommendations(title):\n",
    "    start = time()\n",
    "    # Get the index of the movie that matches the title\n",
    "    idx = indices[title]\n",
    "    #print(\"idx=\",[idx.head(5)])\n",
    "\n",
    "    #calculer cosine_similarity (vecteur * matrice)\n",
    "    cosine_sim = cosine_similarity(tfidf_matrix, tfidf_matrix[idx])\n",
    "\n",
    "    # Get the pairwsie similarity scores of all movies with that movie\n",
    "    sim_scores = list(enumerate(cosine_sim))\n",
    "\n",
    "    # Sort the movies based on the similarity scores\n",
    "    sim_scores = sorted(sim_scores, key=lambda x: x[1], reverse=True)\n",
    "\n",
    "    # Get the scores of the 10 most similar movies\n",
    "    sim_scores = sim_scores[1:11]\n",
    "\n",
    "    # Get the movie indices\n",
    "    movie_indices = [i[0] for i in sim_scores]\n",
    "\n",
    "    t1 = time()-start\n",
    "    t1 = round(t1,3)\n",
    "    print(\"Time = {} secondes\".format(t1))\n",
    "    # Return the top 10 most similar movies\n",
    "    return movie_indices, metadata['title'].iloc[movie_indices]#,print(idx.head(5))\n"
   ]
  },
  {
   "cell_type": "code",
   "execution_count": 22,
   "metadata": {
    "colab": {
     "base_uri": "https://localhost:8080/"
    },
    "id": "ypL9mhV4D87f",
    "outputId": "bbc40133-c6ea-4512-d62d-3d33b8a8b789"
   },
   "outputs": [
    {
     "name": "stdout",
     "output_type": "stream",
     "text": [
      "Time = 2.025 secondes\n"
     ]
    },
    {
     "data": {
      "text/plain": [
       "([12481, 150, 1328, 15511, 585, 21194, 9230, 18035, 19792, 3095],\n",
       " 12481                                      The Dark Knight\n",
       " 150                                         Batman Forever\n",
       " 1328                                        Batman Returns\n",
       " 15511                           Batman: Under the Red Hood\n",
       " 585                                                 Batman\n",
       " 21194    Batman Unmasked: The Psychology of the Dark Kn...\n",
       " 9230                    Batman Beyond: Return of the Joker\n",
       " 18035                                     Batman: Year One\n",
       " 19792              Batman: The Dark Knight Returns, Part 1\n",
       " 3095                          Batman: Mask of the Phantasm\n",
       " Name: title, dtype: object)"
      ]
     },
     "execution_count": 22,
     "metadata": {},
     "output_type": "execute_result"
    }
   ],
   "source": [
    "get_recommendations('The Dark Knight Rises')\n",
    "#get_recommendations('Sabrina')\n"
   ]
  },
  {
   "cell_type": "code",
   "execution_count": 23,
   "metadata": {
    "colab": {
     "base_uri": "https://localhost:8080/"
    },
    "id": "BzThmMbGP9EM",
    "outputId": "4d85439a-ad36-49a2-f592-603c96088837"
   },
   "outputs": [
    {
     "name": "stdout",
     "output_type": "stream",
     "text": [
      "Time = 3.015 secondes\n"
     ]
    },
    {
     "data": {
      "text/plain": [
       "([1178, 44030, 1914, 23126, 11297, 34717, 10821, 38030, 17729, 26293],\n",
       " 1178               The Godfather: Part II\n",
       " 44030    The Godfather Trilogy: 1972-1990\n",
       " 1914              The Godfather: Part III\n",
       " 23126                          Blood Ties\n",
       " 11297                    Household Saints\n",
       " 34717                   Start Liquidation\n",
       " 10821                            Election\n",
       " 38030            A Mother Should Be Loved\n",
       " 17729                   Short Sharp Shock\n",
       " 26293                  Beck 28 - Familjen\n",
       " Name: title, dtype: object)"
      ]
     },
     "execution_count": 23,
     "metadata": {},
     "output_type": "execute_result"
    }
   ],
   "source": [
    "get_recommendations('The Godfather')"
   ]
  },
  {
   "cell_type": "markdown",
   "metadata": {
    "id": "CO2SWyAMV84b"
   },
   "source": [
    "# **get_recommandations with PCA(TruncatedSVD)**"
   ]
  },
  {
   "cell_type": "code",
   "execution_count": 24,
   "metadata": {
    "id": "M4pwxD8KD87f"
   },
   "outputs": [],
   "source": [
    "\n",
    "from sklearn.decomposition import PCA\n",
    "from sklearn.decomposition import TruncatedSVD\n",
    "\n",
    "# faire la pca avant avec n_components=500 pour tester\n",
    "clf = TruncatedSVD(500)\n",
    "X_pca = clf.fit_transform(tfidf_matrix)\n",
    "\n"
   ]
  },
  {
   "cell_type": "code",
   "execution_count": 25,
   "metadata": {
    "colab": {
     "base_uri": "https://localhost:8080/"
    },
    "id": "A_Rq-RZHa7W7",
    "outputId": "89e46121-3b6d-45a2-a815-d27c9f230051"
   },
   "outputs": [
    {
     "name": "stdout",
     "output_type": "stream",
     "text": [
      "(45466, 500)\n"
     ]
    }
   ],
   "source": [
    "\n",
    "print(X_pca.shape)"
   ]
  },
  {
   "cell_type": "code",
   "execution_count": 26,
   "metadata": {
    "colab": {
     "base_uri": "https://localhost:8080/"
    },
    "id": "ZyaM7dNjfmhO",
    "outputId": "15644a31-e0d9-497b-f98c-9cd6c7bb9c24"
   },
   "outputs": [
    {
     "name": "stdout",
     "output_type": "stream",
     "text": [
      "500\n",
      "45466\n"
     ]
    }
   ],
   "source": [
    "X_pca_shape = X_pca.reshape(-1,1)\n",
    "X_pca_i_shape = (X_pca[18252]).reshape(1,-1)\n",
    "\n",
    "print(len(X_pca[18252]))\n",
    "print(len(X_pca))"
   ]
  },
  {
   "cell_type": "code",
   "execution_count": 27,
   "metadata": {
    "colab": {
     "base_uri": "https://localhost:8080/"
    },
    "id": "VwFh7dC7aqsB",
    "outputId": "84a429d6-866c-4b25-c394-6ec255524c66"
   },
   "outputs": [
    {
     "name": "stdout",
     "output_type": "stream",
     "text": [
      "(45466, 1)\n",
      "[[-0.03212949]\n",
      " [ 0.01733888]\n",
      " [ 0.00034179]\n",
      " ...\n",
      " [-0.0184195 ]\n",
      " [ 0.04890582]\n",
      " [ 0.03220154]]\n"
     ]
    }
   ],
   "source": [
    "cosine_sim = cosine_similarity(X_pca ,X_pca_i_shape)\n",
    "print(cosine_sim.shape)\n",
    "print(cosine_sim)"
   ]
  },
  {
   "cell_type": "code",
   "execution_count": 28,
   "metadata": {
    "id": "ryxd2xXcWY8g"
   },
   "outputs": [],
   "source": [
    "from sklearn.decomposition import PCA\n",
    "from sklearn.decomposition import TruncatedSVD\n",
    "from time import time\n",
    "\n",
    "\n",
    "# Function that takes in movie title as input and outputs most similar movies\n",
    "def get_recommendations_PCA(title):#, cosine_sim=cosine_sim):\n",
    "    start = time()\n",
    "    # Get the index of the movie that matches the title\n",
    "    idx = indices[title]\n",
    "\n",
    "    # faire la pca avant avec TruncatedSVD avec n_components=10000\n",
    "    clf = TruncatedSVD(1000)\n",
    "    X_pca = clf.fit_transform(tfidf_matrix)\n",
    "\n",
    "    # if faut faire un reshape(1,-1) sur le vecteur\n",
    "    X_pca_i_shape = (X_pca[idx]).reshape(1,-1)\n",
    "\n",
    "    #calculer cosine_similarity (vecteur * matrice)\n",
    "    cosine_sim = cosine_similarity(X_pca, X_pca_i_shape)\n",
    "\n",
    "    # Get the pairwsie similarity scores of all movies with that movie\n",
    "    sim_scores = list(enumerate(cosine_sim))\n",
    "\n",
    "    # Sort the movies based on the similarity scores\n",
    "    sim_scores = sorted(sim_scores, key=lambda x: x[1], reverse=True)\n",
    "\n",
    "    # Get the scores of the 10 most similar movies\n",
    "    sim_scores = sim_scores[1:11]\n",
    "\n",
    "    # Get the movie indices\n",
    "    movie_indices = [i[0] for i in sim_scores]\n",
    "    #movie_indices = sim_scores\n",
    "    #print(\"movive_indices\",movie_indices)\n",
    "\n",
    "    # Return the top 10 most similar movies\n",
    "    #print(\"idx =\",idx.head(5))\n",
    "    t1 = time()-start\n",
    "    t1 = round(t1,3)\n",
    "    print(\"Time = {} secondes\".format(t1))\n",
    "    print(\"Movies_indices = \", movie_indices)\n",
    "    return metadata['title'].iloc[movie_indices]#,print(idx.head(5))\n"
   ]
  },
  {
   "cell_type": "code",
   "execution_count": 29,
   "metadata": {
    "colab": {
     "base_uri": "https://localhost:8080/"
    },
    "id": "N2e0dexUjmq5",
    "outputId": "3fc9ddfe-03d2-4245-e7d7-0c0a57916c5c"
   },
   "outputs": [
    {
     "name": "stdout",
     "output_type": "stream",
     "text": [
      "Time = 361.908 secondes\n",
      "Movies_indices =  [150, 11753, 585, 12481, 15511, 13838, 27521, 29881, 18035, 3267]\n"
     ]
    },
    {
     "data": {
      "text/plain": [
       "150                  Batman Forever\n",
       "11753                     Slow Burn\n",
       "585                          Batman\n",
       "12481               The Dark Knight\n",
       "15511    Batman: Under the Red Hood\n",
       "13838     The File on Thelma Jordon\n",
       "27521                Rage of Angels\n",
       "29881                       Accused\n",
       "18035              Batman: Year One\n",
       "3267                            JFK\n",
       "Name: title, dtype: object"
      ]
     },
     "execution_count": 29,
     "metadata": {},
     "output_type": "execute_result"
    }
   ],
   "source": [
    "get_recommendations_PCA('The Dark Knight Rises')"
   ]
  },
  {
   "cell_type": "code",
   "execution_count": 29,
   "metadata": {
    "colab": {
     "base_uri": "https://localhost:8080/"
    },
    "id": "3V21Ig9AjxjQ",
    "outputId": "4155a9b1-5159-4db5-b8e9-2c0a36ad5678"
   },
   "outputs": [
    {
     "name": "stdout",
     "output_type": "stream",
     "text": [
      "Time = 95.884 secondes\n",
      "Movies_indices =  [44030, 28163, 1178, 31973, 15716, 26293, 30487, 11297, 37934, 29]\n"
     ]
    },
    {
     "data": {
      "text/plain": [
       "44030                     The Godfather Trilogy: 1972-1990\n",
       "28163    Eurocrime! The Italian Cop and Gangster Films ...\n",
       "1178                                The Godfather: Part II\n",
       "31973                                     Honor Thy Father\n",
       "15716                                         Urban Menace\n",
       "26293                                   Beck 28 - Familjen\n",
       "30487                       Bonnie and Clyde Italian Style\n",
       "11297                                     Household Saints\n",
       "37934                                  Johnny Stool Pigeon\n",
       "29                                          Shanghai Triad\n",
       "Name: title, dtype: object"
      ]
     },
     "execution_count": 29,
     "metadata": {},
     "output_type": "execute_result"
    }
   ],
   "source": [
    "get_recommendations_PCA('The Godfather')"
   ]
  },
  {
   "cell_type": "markdown",
   "metadata": {
    "id": "S8KtXdkdaeGE"
   },
   "source": [
    "# **get_recomandations with \"popularity filter\"**"
   ]
  },
  {
   "cell_type": "code",
   "execution_count": 30,
   "metadata": {
    "id": "jlUoC7qnzyHT"
   },
   "outputs": [],
   "source": [
    "from time import time\n",
    "\n",
    "\n",
    "# Function that takes in movie title as input and outputs most similar movies\n",
    "def get_recommendations_popularity_filter(title):#, cosine_sim=cosine_sim):\n",
    "    start = time()\n",
    "    # Get the index of the movie that matches the title\n",
    "    idx = indices[title]\n",
    "\n",
    "\n",
    "    #calculer cosine_similarity (vecteur * matrice)\n",
    "    cosine_sim = cosine_similarity(tfidf_matrix, tfidf_matrix[idx])\n",
    "\n",
    "    # Get the pairwsie similarity scores of all movies with that movie\n",
    "    sim_scores = list(enumerate(cosine_sim))\n",
    "\n",
    "    # Sort the movies based on the similarity scores\n",
    "    sim_scores = sorted(sim_scores, key=lambda x: x[1], reverse=True)\n",
    "\n",
    "    # Get the scores of the 10 most similar movies\n",
    "    sim_scores = sim_scores[1:11]\n",
    "\n",
    "    # Get the movie indices\n",
    "    movie_indices = [i[0] for i in sim_scores]\n",
    "\n",
    "    # convert metadata.popularity to float\n",
    "    metadata.popularity = pd.to_numeric(metadata.popularity,errors='coerce')\n",
    "    \n",
    "    t1 = time()-start\n",
    "    t1 = round(t1,3)\n",
    "    print(\"Time = {} secondes\".format(t1))\n",
    "    print(\"Movies_indices = \", movie_indices)\n",
    "    # Return the top 10 most similar movies\n",
    "    return metadata[['title', 'popularity']].iloc[movie_indices].sort_values(by= 'popularity', ascending=False)\n"
   ]
  },
  {
   "cell_type": "code",
   "execution_count": 31,
   "metadata": {
    "colab": {
     "base_uri": "https://localhost:8080/",
     "height": 393
    },
    "id": "j6Vc5Q6Bzu0H",
    "outputId": "d9e48f82-00f9-4e61-ee3a-2138e1c342e3"
   },
   "outputs": [
    {
     "name": "stdout",
     "output_type": "stream",
     "text": [
      "Time = 1.599 secondes\n",
      "Movies_indices =  [12481, 150, 1328, 15511, 585, 21194, 9230, 18035, 19792, 3095]\n"
     ]
    },
    {
     "data": {
      "text/html": [
       "<div>\n",
       "<style scoped>\n",
       "    .dataframe tbody tr th:only-of-type {\n",
       "        vertical-align: middle;\n",
       "    }\n",
       "\n",
       "    .dataframe tbody tr th {\n",
       "        vertical-align: top;\n",
       "    }\n",
       "\n",
       "    .dataframe thead th {\n",
       "        text-align: right;\n",
       "    }\n",
       "</style>\n",
       "<table border=\"1\" class=\"dataframe\">\n",
       "  <thead>\n",
       "    <tr style=\"text-align: right;\">\n",
       "      <th></th>\n",
       "      <th>title</th>\n",
       "      <th>popularity</th>\n",
       "    </tr>\n",
       "  </thead>\n",
       "  <tbody>\n",
       "    <tr>\n",
       "      <th>12481</th>\n",
       "      <td>The Dark Knight</td>\n",
       "      <td>123.167259</td>\n",
       "    </tr>\n",
       "    <tr>\n",
       "      <th>585</th>\n",
       "      <td>Batman</td>\n",
       "      <td>19.106730</td>\n",
       "    </tr>\n",
       "    <tr>\n",
       "      <th>1328</th>\n",
       "      <td>Batman Returns</td>\n",
       "      <td>15.001681</td>\n",
       "    </tr>\n",
       "    <tr>\n",
       "      <th>150</th>\n",
       "      <td>Batman Forever</td>\n",
       "      <td>13.321354</td>\n",
       "    </tr>\n",
       "    <tr>\n",
       "      <th>19792</th>\n",
       "      <td>Batman: The Dark Knight Returns, Part 1</td>\n",
       "      <td>12.107182</td>\n",
       "    </tr>\n",
       "    <tr>\n",
       "      <th>9230</th>\n",
       "      <td>Batman Beyond: Return of the Joker</td>\n",
       "      <td>7.872438</td>\n",
       "    </tr>\n",
       "    <tr>\n",
       "      <th>3095</th>\n",
       "      <td>Batman: Mask of the Phantasm</td>\n",
       "      <td>7.291140</td>\n",
       "    </tr>\n",
       "    <tr>\n",
       "      <th>15511</th>\n",
       "      <td>Batman: Under the Red Hood</td>\n",
       "      <td>7.039325</td>\n",
       "    </tr>\n",
       "    <tr>\n",
       "      <th>18035</th>\n",
       "      <td>Batman: Year One</td>\n",
       "      <td>5.031094</td>\n",
       "    </tr>\n",
       "    <tr>\n",
       "      <th>21194</th>\n",
       "      <td>Batman Unmasked: The Psychology of the Dark Kn...</td>\n",
       "      <td>1.084614</td>\n",
       "    </tr>\n",
       "  </tbody>\n",
       "</table>\n",
       "</div>"
      ],
      "text/plain": [
       "                                                   title  popularity\n",
       "12481                                    The Dark Knight  123.167259\n",
       "585                                               Batman   19.106730\n",
       "1328                                      Batman Returns   15.001681\n",
       "150                                       Batman Forever   13.321354\n",
       "19792            Batman: The Dark Knight Returns, Part 1   12.107182\n",
       "9230                  Batman Beyond: Return of the Joker    7.872438\n",
       "3095                        Batman: Mask of the Phantasm    7.291140\n",
       "15511                         Batman: Under the Red Hood    7.039325\n",
       "18035                                   Batman: Year One    5.031094\n",
       "21194  Batman Unmasked: The Psychology of the Dark Kn...    1.084614"
      ]
     },
     "execution_count": 31,
     "metadata": {},
     "output_type": "execute_result"
    }
   ],
   "source": [
    "get_recommendations_popularity_filter('The Dark Knight Rises')"
   ]
  },
  {
   "cell_type": "code",
   "execution_count": 32,
   "metadata": {
    "colab": {
     "base_uri": "https://localhost:8080/",
     "height": 393
    },
    "id": "stmuCFoa2vRS",
    "outputId": "01ab27ed-0c04-4424-ea25-60cfce7538fc"
   },
   "outputs": [
    {
     "name": "stdout",
     "output_type": "stream",
     "text": [
      "Time = 1.449 secondes\n",
      "Movies_indices =  [1178, 44030, 1914, 23126, 11297, 34717, 10821, 38030, 17729, 26293]\n"
     ]
    },
    {
     "data": {
      "text/html": [
       "<div>\n",
       "<style scoped>\n",
       "    .dataframe tbody tr th:only-of-type {\n",
       "        vertical-align: middle;\n",
       "    }\n",
       "\n",
       "    .dataframe tbody tr th {\n",
       "        vertical-align: top;\n",
       "    }\n",
       "\n",
       "    .dataframe thead th {\n",
       "        text-align: right;\n",
       "    }\n",
       "</style>\n",
       "<table border=\"1\" class=\"dataframe\">\n",
       "  <thead>\n",
       "    <tr style=\"text-align: right;\">\n",
       "      <th></th>\n",
       "      <th>title</th>\n",
       "      <th>popularity</th>\n",
       "    </tr>\n",
       "  </thead>\n",
       "  <tbody>\n",
       "    <tr>\n",
       "      <th>1178</th>\n",
       "      <td>The Godfather: Part II</td>\n",
       "      <td>36.629307</td>\n",
       "    </tr>\n",
       "    <tr>\n",
       "      <th>1914</th>\n",
       "      <td>The Godfather: Part III</td>\n",
       "      <td>17.185349</td>\n",
       "    </tr>\n",
       "    <tr>\n",
       "      <th>23126</th>\n",
       "      <td>Blood Ties</td>\n",
       "      <td>14.934555</td>\n",
       "    </tr>\n",
       "    <tr>\n",
       "      <th>10821</th>\n",
       "      <td>Election</td>\n",
       "      <td>3.222361</td>\n",
       "    </tr>\n",
       "    <tr>\n",
       "      <th>17729</th>\n",
       "      <td>Short Sharp Shock</td>\n",
       "      <td>1.463414</td>\n",
       "    </tr>\n",
       "    <tr>\n",
       "      <th>26293</th>\n",
       "      <td>Beck 28 - Familjen</td>\n",
       "      <td>0.956873</td>\n",
       "    </tr>\n",
       "    <tr>\n",
       "      <th>34717</th>\n",
       "      <td>Start Liquidation</td>\n",
       "      <td>0.623522</td>\n",
       "    </tr>\n",
       "    <tr>\n",
       "      <th>38030</th>\n",
       "      <td>A Mother Should Be Loved</td>\n",
       "      <td>0.095234</td>\n",
       "    </tr>\n",
       "    <tr>\n",
       "      <th>11297</th>\n",
       "      <td>Household Saints</td>\n",
       "      <td>0.055173</td>\n",
       "    </tr>\n",
       "    <tr>\n",
       "      <th>44030</th>\n",
       "      <td>The Godfather Trilogy: 1972-1990</td>\n",
       "      <td>0.001429</td>\n",
       "    </tr>\n",
       "  </tbody>\n",
       "</table>\n",
       "</div>"
      ],
      "text/plain": [
       "                                  title  popularity\n",
       "1178             The Godfather: Part II   36.629307\n",
       "1914            The Godfather: Part III   17.185349\n",
       "23126                        Blood Ties   14.934555\n",
       "10821                          Election    3.222361\n",
       "17729                 Short Sharp Shock    1.463414\n",
       "26293                Beck 28 - Familjen    0.956873\n",
       "34717                 Start Liquidation    0.623522\n",
       "38030          A Mother Should Be Loved    0.095234\n",
       "11297                  Household Saints    0.055173\n",
       "44030  The Godfather Trilogy: 1972-1990    0.001429"
      ]
     },
     "execution_count": 32,
     "metadata": {},
     "output_type": "execute_result"
    }
   ],
   "source": [
    "get_recommendations_popularity_filter('The Godfather')"
   ]
  },
  {
   "cell_type": "markdown",
   "metadata": {
    "id": "7-D3AzAmD3LN"
   },
   "source": [
    "# **get_recommandation with score**"
   ]
  },
  {
   "cell_type": "code",
   "execution_count": 33,
   "metadata": {
    "id": "JwYr8AFAD9qc"
   },
   "outputs": [],
   "source": [
    "from time import time\n",
    "\n",
    "\n",
    "# Function that takes in movie title as input and outputs most similar movies\n",
    "def get_recommendations_score(title):#, cosine_sim=cosine_sim):\n",
    "    start = time()\n",
    "    # Get the index of the movie that matches the title\n",
    "    idx = indices[title]\n",
    "\n",
    "\n",
    "    #calculer cosine_similarity (vecteur * matrice)\n",
    "    cosine_sim = cosine_similarity(tfidf_matrix, tfidf_matrix[idx])\n",
    "\n",
    "    # Get the pairwsie similarity scores of all movies with that movie\n",
    "    sim_scores = list(enumerate(cosine_sim))\n",
    "\n",
    "    # Sort the movies based on the similarity scores\n",
    "    sim_scores = sorted(sim_scores, key=lambda x: x[1], reverse=True)\n",
    "\n",
    "    # Get the scores of the 10 most similar movies\n",
    "    sim_scores = sim_scores[1:11]\n",
    "\n",
    "    # Get the movie indices\n",
    "    movie_indices = [i[0] for i in sim_scores]\n",
    "\n",
    "    # convert metadata.popularity to float\n",
    "    #metadata.popularity = pd.to_numeric(metadata.popularity,errors='coerce')\n",
    "    metadata['scores'] = metadata.apply(weighted_rating, axis=1)\n",
    "    \n",
    "    t1 = time()-start\n",
    "    t1 = round(t1,3)\n",
    "    print(\"Time = {} secondes\".format(t1))\n",
    "    print(\"Movies_indices = \", movie_indices)\n",
    "    # Return the top 10 most similar movies\n",
    "    df = metadata[['title', 'scores']].iloc[movie_indices].sort_values(by= 'scores', ascending=False)\n",
    "    print(\"suggestion : {}\".format(df.iloc[1]))\n",
    "    return df\n"
   ]
  },
  {
   "cell_type": "code",
   "execution_count": 34,
   "metadata": {
    "colab": {
     "base_uri": "https://localhost:8080/",
     "height": 444
    },
    "id": "qnqI2XXIE0GI",
    "outputId": "91cd9c7b-4cbd-4f9c-f1d8-da11672bc3cb"
   },
   "outputs": [
    {
     "name": "stdout",
     "output_type": "stream",
     "text": [
      "Time = 4.395 secondes\n",
      "Movies_indices =  [12481, 150, 1328, 15511, 585, 21194, 9230, 18035, 19792, 3095]\n",
      "suggestion : title     Batman: The Dark Knight Returns, Part 1\n",
      "scores                                    7.11564\n",
      "Name: 19792, dtype: object\n"
     ]
    },
    {
     "data": {
      "text/html": [
       "<div>\n",
       "<style scoped>\n",
       "    .dataframe tbody tr th:only-of-type {\n",
       "        vertical-align: middle;\n",
       "    }\n",
       "\n",
       "    .dataframe tbody tr th {\n",
       "        vertical-align: top;\n",
       "    }\n",
       "\n",
       "    .dataframe thead th {\n",
       "        text-align: right;\n",
       "    }\n",
       "</style>\n",
       "<table border=\"1\" class=\"dataframe\">\n",
       "  <thead>\n",
       "    <tr style=\"text-align: right;\">\n",
       "      <th></th>\n",
       "      <th>title</th>\n",
       "      <th>scores</th>\n",
       "    </tr>\n",
       "  </thead>\n",
       "  <tbody>\n",
       "    <tr>\n",
       "      <th>12481</th>\n",
       "      <td>The Dark Knight</td>\n",
       "      <td>8.265477</td>\n",
       "    </tr>\n",
       "    <tr>\n",
       "      <th>19792</th>\n",
       "      <td>Batman: The Dark Knight Returns, Part 1</td>\n",
       "      <td>7.115637</td>\n",
       "    </tr>\n",
       "    <tr>\n",
       "      <th>15511</th>\n",
       "      <td>Batman: Under the Red Hood</td>\n",
       "      <td>7.087743</td>\n",
       "    </tr>\n",
       "    <tr>\n",
       "      <th>585</th>\n",
       "      <td>Batman</td>\n",
       "      <td>6.904084</td>\n",
       "    </tr>\n",
       "    <tr>\n",
       "      <th>3095</th>\n",
       "      <td>Batman: Mask of the Phantasm</td>\n",
       "      <td>6.645802</td>\n",
       "    </tr>\n",
       "    <tr>\n",
       "      <th>9230</th>\n",
       "      <td>Batman Beyond: Return of the Joker</td>\n",
       "      <td>6.534978</td>\n",
       "    </tr>\n",
       "    <tr>\n",
       "      <th>18035</th>\n",
       "      <td>Batman: Year One</td>\n",
       "      <td>6.528706</td>\n",
       "    </tr>\n",
       "    <tr>\n",
       "      <th>1328</th>\n",
       "      <td>Batman Returns</td>\n",
       "      <td>6.515816</td>\n",
       "    </tr>\n",
       "    <tr>\n",
       "      <th>21194</th>\n",
       "      <td>Batman Unmasked: The Psychology of the Dark Kn...</td>\n",
       "      <td>5.846967</td>\n",
       "    </tr>\n",
       "    <tr>\n",
       "      <th>150</th>\n",
       "      <td>Batman Forever</td>\n",
       "      <td>5.239617</td>\n",
       "    </tr>\n",
       "  </tbody>\n",
       "</table>\n",
       "</div>"
      ],
      "text/plain": [
       "                                                   title    scores\n",
       "12481                                    The Dark Knight  8.265477\n",
       "19792            Batman: The Dark Knight Returns, Part 1  7.115637\n",
       "15511                         Batman: Under the Red Hood  7.087743\n",
       "585                                               Batman  6.904084\n",
       "3095                        Batman: Mask of the Phantasm  6.645802\n",
       "9230                  Batman Beyond: Return of the Joker  6.534978\n",
       "18035                                   Batman: Year One  6.528706\n",
       "1328                                      Batman Returns  6.515816\n",
       "21194  Batman Unmasked: The Psychology of the Dark Kn...  5.846967\n",
       "150                                       Batman Forever  5.239617"
      ]
     },
     "execution_count": 34,
     "metadata": {},
     "output_type": "execute_result"
    }
   ],
   "source": [
    "get_recommendations_score('The Dark Knight Rises')"
   ]
  },
  {
   "cell_type": "markdown",
   "metadata": {},
   "source": [
    "# **get_recommandation with suggestion**"
   ]
  },
  {
   "cell_type": "code",
   "execution_count": 35,
   "metadata": {},
   "outputs": [
    {
     "data": {
      "text/plain": [
       "Index([                  'Toy Story',                     'Jumanji',\n",
       "                  'Grumpier Old Men',           'Waiting to Exhale',\n",
       "       'Father of the Bride Part II',                        'Heat',\n",
       "                           'Sabrina',                'Tom and Huck',\n",
       "                      'Sudden Death',                   'GoldenEye',\n",
       "       ...\n",
       "                  'House of Horrors',   'Shadow of the Blair Witch',\n",
       "               'The Burkittsville 7',             'Caged Heat 3000',\n",
       "                        'Robin Hood',                      'Subdue',\n",
       "               'Century of Birthing',                    'Betrayal',\n",
       "                  'Satan Triumphant',                    'Queerama'],\n",
       "      dtype='object', name='title', length=45466)"
      ]
     },
     "execution_count": 35,
     "metadata": {},
     "output_type": "execute_result"
    }
   ],
   "source": [
    "indices.index.isnull().any()\n",
    "indices.index"
   ]
  },
  {
   "cell_type": "code",
   "execution_count": 57,
   "metadata": {},
   "outputs": [],
   "source": [
    "from time import time\n",
    "\n",
    "\n",
    "# Function that takes in movie title as input and outputs most similar movies\n",
    "def get_recommendations_suggestion(word):#, cosine_sim=cosine_sim):\n",
    "    start = time()\n",
    "    # Get the index of the movie that matches the title\n",
    "    #idx = indices[title]\n",
    "    idx = []\n",
    "    for k,v in indices.items():\n",
    "        if word in str(k):\n",
    "            idx.append(v)\n",
    "    for j in idx:\n",
    "\n",
    "        #calculer cosine_similarity (vecteur * matrice)\n",
    "        cosine_sim = cosine_similarity(tfidf_matrix, tfidf_matrix[j])\n",
    "\n",
    "        # Get the pairwsie similarity scores of all movies with that movie\n",
    "        sim_scores = list(enumerate(cosine_sim))\n",
    "\n",
    "        # Sort the movies based on the similarity scores\n",
    "        sim_scores = sorted(sim_scores, key=lambda x: x[1], reverse=True)\n",
    "\n",
    "        # Get the scores of the 10 most similar movies\n",
    "        sim_scores = sim_scores[1:11]\n",
    "\n",
    "        # Get the movie indices\n",
    "        movie_indices = [i[0] for i in sim_scores]\n",
    "\n",
    "        # convert metadata.popularity to float\n",
    "        #metadata.popularity = pd.to_numeric(metadata.popularity,errors='coerce')\n",
    "        #metadata['scores'] = metadata.apply(weighted_rating, axis=1)\n",
    "    \n",
    "    t1 = time()-start\n",
    "    t1 = round(t1,3)\n",
    "    print(\"Time = {} secondes\".format(t1))\n",
    "    print(\"Movies_indices = \", movie_indices)\n",
    "    # Return the top 10 most similar movies\n",
    "    df = metadata[['title']].iloc[movie_indices]#.sort_values(by= 'scores', ascending=False)\n",
    "    print(\"suggestion : {}\".format(df.iloc[1]))\n",
    "    return df"
   ]
  },
  {
   "cell_type": "code",
   "execution_count": 58,
   "metadata": {},
   "outputs": [
    {
     "name": "stdout",
     "output_type": "stream",
     "text": [
      "Time = 53.474 secondes\n",
      "Movies_indices =  [41982, 19792, 3095, 35983, 10122, 9230, 15511, 150, 1328, 21194]\n",
      "suggestion : title    Batman: The Dark Knight Returns, Part 1\n",
      "Name: 19792, dtype: object\n"
     ]
    },
    {
     "data": {
      "text/html": [
       "<div>\n",
       "<style scoped>\n",
       "    .dataframe tbody tr th:only-of-type {\n",
       "        vertical-align: middle;\n",
       "    }\n",
       "\n",
       "    .dataframe tbody tr th {\n",
       "        vertical-align: top;\n",
       "    }\n",
       "\n",
       "    .dataframe thead th {\n",
       "        text-align: right;\n",
       "    }\n",
       "</style>\n",
       "<table border=\"1\" class=\"dataframe\">\n",
       "  <thead>\n",
       "    <tr style=\"text-align: right;\">\n",
       "      <th></th>\n",
       "      <th>title</th>\n",
       "    </tr>\n",
       "  </thead>\n",
       "  <tbody>\n",
       "    <tr>\n",
       "      <th>41982</th>\n",
       "      <td>Batman Beyond Darwyn Cooke's Batman 75th Anniv...</td>\n",
       "    </tr>\n",
       "    <tr>\n",
       "      <th>19792</th>\n",
       "      <td>Batman: The Dark Knight Returns, Part 1</td>\n",
       "    </tr>\n",
       "    <tr>\n",
       "      <th>3095</th>\n",
       "      <td>Batman: Mask of the Phantasm</td>\n",
       "    </tr>\n",
       "    <tr>\n",
       "      <th>35983</th>\n",
       "      <td>Batman: Bad Blood</td>\n",
       "    </tr>\n",
       "    <tr>\n",
       "      <th>10122</th>\n",
       "      <td>Batman Begins</td>\n",
       "    </tr>\n",
       "    <tr>\n",
       "      <th>9230</th>\n",
       "      <td>Batman Beyond: Return of the Joker</td>\n",
       "    </tr>\n",
       "    <tr>\n",
       "      <th>15511</th>\n",
       "      <td>Batman: Under the Red Hood</td>\n",
       "    </tr>\n",
       "    <tr>\n",
       "      <th>150</th>\n",
       "      <td>Batman Forever</td>\n",
       "    </tr>\n",
       "    <tr>\n",
       "      <th>1328</th>\n",
       "      <td>Batman Returns</td>\n",
       "    </tr>\n",
       "    <tr>\n",
       "      <th>21194</th>\n",
       "      <td>Batman Unmasked: The Psychology of the Dark Kn...</td>\n",
       "    </tr>\n",
       "  </tbody>\n",
       "</table>\n",
       "</div>"
      ],
      "text/plain": [
       "                                                   title\n",
       "41982  Batman Beyond Darwyn Cooke's Batman 75th Anniv...\n",
       "19792            Batman: The Dark Knight Returns, Part 1\n",
       "3095                        Batman: Mask of the Phantasm\n",
       "35983                                  Batman: Bad Blood\n",
       "10122                                      Batman Begins\n",
       "9230                  Batman Beyond: Return of the Joker\n",
       "15511                         Batman: Under the Red Hood\n",
       "150                                       Batman Forever\n",
       "1328                                      Batman Returns\n",
       "21194  Batman Unmasked: The Psychology of the Dark Kn..."
      ]
     },
     "execution_count": 58,
     "metadata": {},
     "output_type": "execute_result"
    }
   ],
   "source": [
    "get_recommendations_suggestion('Batman')"
   ]
  },
  {
   "cell_type": "code",
   "execution_count": 59,
   "metadata": {},
   "outputs": [
    {
     "name": "stdout",
     "output_type": "stream",
     "text": [
      "Time = 36.349 secondes\n",
      "Movies_indices =  [37605, 41624, 44048, 7520, 578, 32989, 44182, 4272, 37735, 16808]\n",
      "suggestion : title    Kevorkian\n",
      "Name: 41624, dtype: object\n"
     ]
    },
    {
     "data": {
      "text/html": [
       "<div>\n",
       "<style scoped>\n",
       "    .dataframe tbody tr th:only-of-type {\n",
       "        vertical-align: middle;\n",
       "    }\n",
       "\n",
       "    .dataframe tbody tr th {\n",
       "        vertical-align: top;\n",
       "    }\n",
       "\n",
       "    .dataframe thead th {\n",
       "        text-align: right;\n",
       "    }\n",
       "</style>\n",
       "<table border=\"1\" class=\"dataframe\">\n",
       "  <thead>\n",
       "    <tr style=\"text-align: right;\">\n",
       "      <th></th>\n",
       "      <th>title</th>\n",
       "    </tr>\n",
       "  </thead>\n",
       "  <tbody>\n",
       "    <tr>\n",
       "      <th>37605</th>\n",
       "      <td>The Stalker</td>\n",
       "    </tr>\n",
       "    <tr>\n",
       "      <th>41624</th>\n",
       "      <td>Kevorkian</td>\n",
       "    </tr>\n",
       "    <tr>\n",
       "      <th>44048</th>\n",
       "      <td>Simon's Cat</td>\n",
       "    </tr>\n",
       "    <tr>\n",
       "      <th>7520</th>\n",
       "      <td>After the Rehearsal</td>\n",
       "    </tr>\n",
       "    <tr>\n",
       "      <th>578</th>\n",
       "      <td>The Brady Bunch Movie</td>\n",
       "    </tr>\n",
       "    <tr>\n",
       "      <th>32989</th>\n",
       "      <td>Seven Dead in the Cat's Eye</td>\n",
       "    </tr>\n",
       "    <tr>\n",
       "      <th>44182</th>\n",
       "      <td>Cat in the Brain</td>\n",
       "    </tr>\n",
       "    <tr>\n",
       "      <th>4272</th>\n",
       "      <td>Donovan's Brain</td>\n",
       "    </tr>\n",
       "    <tr>\n",
       "      <th>37735</th>\n",
       "      <td>The Lure</td>\n",
       "    </tr>\n",
       "    <tr>\n",
       "      <th>16808</th>\n",
       "      <td>She and Her Cat: Their Standing Points</td>\n",
       "    </tr>\n",
       "  </tbody>\n",
       "</table>\n",
       "</div>"
      ],
      "text/plain": [
       "                                        title\n",
       "37605                             The Stalker\n",
       "41624                               Kevorkian\n",
       "44048                             Simon's Cat\n",
       "7520                      After the Rehearsal\n",
       "578                     The Brady Bunch Movie\n",
       "32989             Seven Dead in the Cat's Eye\n",
       "44182                        Cat in the Brain\n",
       "4272                          Donovan's Brain\n",
       "37735                                The Lure\n",
       "16808  She and Her Cat: Their Standing Points"
      ]
     },
     "execution_count": 59,
     "metadata": {},
     "output_type": "execute_result"
    }
   ],
   "source": [
    "get_recommendations_suggestion('Psycho')"
   ]
  },
  {
   "cell_type": "code",
   "execution_count": null,
   "metadata": {},
   "outputs": [],
   "source": []
  }
 ],
 "metadata": {
  "colab": {
   "collapsed_sections": [],
   "name": "systeme_de_recommendation(1).ipynb",
   "provenance": []
  },
  "kernelspec": {
   "display_name": "Python 3",
   "language": "python",
   "name": "python3"
  },
  "language_info": {
   "codemirror_mode": {
    "name": "ipython",
    "version": 3
   },
   "file_extension": ".py",
   "mimetype": "text/x-python",
   "name": "python",
   "nbconvert_exporter": "python",
   "pygments_lexer": "ipython3",
   "version": "3.8.5"
  }
 },
 "nbformat": 4,
 "nbformat_minor": 1
}
